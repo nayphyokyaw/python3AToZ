{
 "cells": [
  {
   "cell_type": "code",
   "execution_count": 18,
   "id": "60f2b933",
   "metadata": {},
   "outputs": [
    {
     "name": "stdout",
     "output_type": "stream",
     "text": [
      "Hello! Kyaw Si Thu\n",
      "Hello Alan\n"
     ]
    }
   ],
   "source": [
    "# def hello():\n",
    "#     print(\"Hello!\")\n",
    "# hello()\n",
    "    \n",
    "    \n",
    "# function with command\n",
    "\n",
    "def hello(user_name):  # Practice function\n",
    "    \"\"\"A docstring describing the function\"\"\"\n",
    "    print(\"Hello! \" + user_name)\n",
    "hello('Kyaw Si Thu')\n",
    "\n",
    "\n",
    "# Passing data to a fuction via a variable\n",
    "\n",
    "def hello(user_name): # Practice function\n",
    "    \"\"\" A docstring describing the function \"\"\"\n",
    "    print('Hello ' + user_name)\n",
    "    \n",
    "# Put a string in a variable named this _person.\n",
    "this_person = 'Alan'\n",
    "hello(this_person)"
   ]
  },
  {
   "cell_type": "code",
   "execution_count": 20,
   "id": "a1c978fc",
   "metadata": {},
   "outputs": [
    {
     "name": "stdout",
     "output_type": "stream",
     "text": [
      "Hello Alan\n",
      "Hello nobody\n"
     ]
    }
   ],
   "source": [
    "# An OPtional parameter with a default value added to the hello() function.\n",
    "\n",
    "def hello(user_name = ' nobody'):       #Practice function\n",
    "    \"\"\" A docstring describing the function \"\"\"\n",
    "    print('Hello' + user_name)\n",
    "    \n",
    "hello(' Alan')\n",
    "hello()"
   ]
  },
  {
   "cell_type": "code",
   "execution_count": 32,
   "id": "0b7bd14a",
   "metadata": {},
   "outputs": [
    {
     "name": "stdout",
     "output_type": "stream",
     "text": [
      "Hello Alan Smith \n"
     ]
    }
   ],
   "source": [
    "# Passing multiple values to a function\n",
    "\n",
    "# def hello(fname, lname, datestring):    # Practice function\n",
    "#     \"\"\" A docstring describing the function \"\"\"\n",
    "#     print(\"Hello\" + fname + ' ' + lname)\n",
    "#     print('The date is ' + datestring)\n",
    "\n",
    "\n",
    "# The hello function with Three parameters.\n",
    "\n",
    "def hello(fname, lname, datestring):  # Practice function\n",
    "    \"\"\" A docstring describing the function \"\"\"\n",
    "    msg = \"Hello\" + fname + \" \" + lname\n",
    "    msg += \"you mentioned \" + datestring\n",
    "    print(msg)\n",
    "    \n",
    "hello(' Alan', 'Smith ', '12/31/2019')      # hello with three argument for print "
   ]
  },
  {
   "cell_type": "code",
   "execution_count": 36,
   "id": "694d3f2a",
   "metadata": {},
   "outputs": [
    {
     "name": "stdout",
     "output_type": "stream",
     "text": [
      "Hello  Alan Smith  You mentioned 12/31/2019\n",
      "Hello  Alan Smith You mentioned \n"
     ]
    }
   ],
   "source": [
    "# Calling the hello() funtion with three parameter, and again with two parameters.\n",
    "\n",
    "def hello(fname, lname, datestring=''):\n",
    "    msg = 'Hello ' + fname + ' ' + lname\n",
    "    if len(datestring) != True:\n",
    "        msg += ' You mentioned ' + datestring\n",
    "        print(msg)\n",
    "hello(' Alan', 'Smith ', '12/31/2019')      # hello with three argument for print \n",
    "hello(' Alan',  'Smith')"
   ]
  },
  {
   "cell_type": "code",
   "execution_count": 39,
   "id": "cd4422d8",
   "metadata": {},
   "outputs": [
    {
     "name": "stdout",
     "output_type": "stream",
     "text": [
      "Hello Mikal Stepin you mentioned 12/31/2019\n",
      "Hello Mikal Stepin you mentioned 12/31/2019\n"
     ]
    }
   ],
   "source": [
    "# Calling a function with keyword arguments (kwargs).\n",
    "\n",
    "def hello(fname, lname, datestring):  # Practice function\n",
    "    \"\"\" A docstring describing the function \"\"\"\n",
    "    msg = \"Hello \" + fname + \" \" + lname\n",
    "    msg += \" you mentioned \" + datestring\n",
    "    print(msg)\n",
    "    \n",
    "# pass is in literal kwargs (identify each by parameter name)\n",
    "hello(datestring = '12/31/2019', lname = 'Stepin', fname = 'Mikal')\n",
    "\n",
    "# pass in in kwargs from variables (identify each by parameter name)\n",
    "appt_date = '12/31/2019'\n",
    "last_name = 'Stepin'\n",
    "first_name = 'Mikal'\n",
    "hello(datestring = appt_date, lname = last_name, fname = first_name)\n"
   ]
  },
  {
   "cell_type": "code",
   "execution_count": 40,
   "id": "0440fb9f",
   "metadata": {},
   "outputs": [],
   "source": [
    "# passing multiple values in a list\n",
    "\n",
    "def alphabetize(original_list = []):\n",
    "    \"\"\" Pass any list in square backets, displays a string\n",
    "        with items sorted \"\"\"\n",
    "    \n",
    "    # Inside the function make a working copy of the list passed in.\n",
    "    sorted_list = original_list.copy()\n",
    "    \n",
    "    # Sort the working cioy.\n",
    "    sorted_list.sort()\n",
    "    \n",
    "    # Make a new empty string for output\n",
    "    final_list = ''\n",
    "    \n",
    "    # loop through sorted list and append name and comma and space.\n",
    "    for name in sorted_list:\n",
    "        final_list += name + ', '\n",
    "        \n",
    "    # Knock off last comma space if the string is not blank\n",
    "    final_list = final_list[:-2]\n",
    "    \n",
    "    # Print the alphabetize list.\n",
    "    print(final_list)\n",
    "    \n",
    "# Note:  : this function code test on d:/python/function/\n",
    "         # AlphaSort.py and AlphaSort1.py "
   ]
  },
  {
   "cell_type": "code",
   "execution_count": 42,
   "id": "3388640f",
   "metadata": {},
   "outputs": [
    {
     "name": "stdout",
     "output_type": "stream",
     "text": [
      "[-900, 0.001, 1, 2, 10000]\n"
     ]
    }
   ],
   "source": [
    "# Passing in an arbitary numbeer of arguments\n",
    "\n",
    "def sorter(*args):\n",
    "    \"\"\" Pass in any number of arguments separated by commas\n",
    "    Inside the function, they treated as a tuple named args.\n",
    "    \"\"\"\n",
    "    # Create a list from the passed-in tuple.\n",
    "    newList = list(args)\n",
    "    \n",
    "    # Sort and show the list\n",
    "    newList.sort()\n",
    "    print(newList)\n",
    "    \n",
    "sorter(1, -900, 00.001, 10000, 2)"
   ]
  },
  {
   "cell_type": "code",
   "execution_count": 56,
   "id": "3e018639",
   "metadata": {},
   "outputs": [
    {
     "name": "stdout",
     "output_type": "stream",
     "text": [
      "Albert, Dough, Keswer, McMullen, Villa, Willian\n"
     ]
    }
   ],
   "source": [
    "# Returning Values from Functions\n",
    "def alphabetize(original_list=[]):\n",
    "    sorted_list = original_list.copy()\n",
    "    sorted_list.sort()\n",
    "    final_list = ''\n",
    "    for name in sorted_list:\n",
    "        final_list += name + ', '\n",
    "    final_list = final_list[:-2]\n",
    "    print(final_list)\n",
    "    \n",
    "names = ['McMullen', 'Keswer', 'Willian', 'Albert', 'Dough', 'Villa']\n",
    "alphabetize(names)\n"
   ]
  },
  {
   "cell_type": "code",
   "execution_count": 57,
   "id": "9726348f",
   "metadata": {},
   "outputs": [
    {
     "name": "stdout",
     "output_type": "stream",
     "text": [
      "zandusky\n"
     ]
    }
   ],
   "source": [
    "# Unmasking Anonymous Functions\n",
    "# Putting a custom funtion named lowercaseof()\n",
    "\n",
    "def lowercaseof(anystring):\n",
    "    \"\"\" Converts string to all lowerecase \"\"\"\n",
    "    return anystring.lower()\n",
    "print(lowercaseof('Zandusky'))\n"
   ]
  },
  {
   "cell_type": "code",
   "execution_count": 61,
   "id": "1b18f930",
   "metadata": {},
   "outputs": [
    {
     "name": "stdout",
     "output_type": "stream",
     "text": [
      "['Adams', 'diMeola', 'Ma', 'Zandusky']\n",
      "['Adams', 'diMeola', 'Ma', 'Zandusky']\n"
     ]
    }
   ],
   "source": [
    "# Using a lamba expression as a sort key.\n",
    "\n",
    "names = ['Adams', 'Ma', 'diMeola', 'Zandusky']\n",
    "names.sort(key = lambda anystring : anystring.lower())\n",
    "print(names)\n",
    "\n",
    "\n",
    "names = ['Adams', 'Ma', 'diMeola', 'Zandusky']\n",
    "names.sort(key = lambda s: s.lower())\n",
    "print(names)"
   ]
  },
  {
   "cell_type": "code",
   "execution_count": 64,
   "id": "cb68be93",
   "metadata": {},
   "outputs": [
    {
     "name": "stdout",
     "output_type": "stream",
     "text": [
      "$ 99.00\n",
      "$ 123,456,789.10\n",
      "6.50%\n",
      "50.00%\n"
     ]
    }
   ],
   "source": [
    "# Two anonymous function for formatting numbers\n",
    "\n",
    "# Show number in currency format\n",
    "currency = lambda n : f\"$ {n:,.2f}\"\n",
    "\n",
    "#Show number on percent format\n",
    "percent = lambda n: f\"{n:.2%}\"\n",
    "\n",
    "# Test currency function\n",
    "print(currency(99))\n",
    "print(currency(123456789.09876543))\n",
    "\n",
    "# Test percent function\n",
    "print(percent(0.065))\n",
    "print(percent(.5))\n"
   ]
  },
  {
   "cell_type": "code",
   "execution_count": 76,
   "id": "d354357d",
   "metadata": {},
   "outputs": [
    {
     "name": "stdout",
     "output_type": "stream",
     "text": [
      "    $ 99,999.00\n",
      "     $ 9,999.00\n",
      "       999900.0%\n"
     ]
    }
   ],
   "source": [
    "# Two function for formatting numbers with a fixed width.\n",
    "\n",
    "# Show number in currency format, specify width.\n",
    "def currency(n, w=15):\n",
    "    \"\"\" Show in currency format, width = 15 or width of your choosing \"\"\"\n",
    "    s = f\"$ {n:,.2f}\"\n",
    "    # Pad left of output with spaces to width of w.\n",
    "    return s.rjust(w)\n",
    "\n",
    "# Show number in percent format, specify width.\n",
    "def percent(n, w=15):\n",
    "    \"\"\" Show in percent format, width = 15 or width of your choosing \"\"\"\n",
    "    # Show number in percent format.\n",
    "    s = f\"{n:.1%}\"\n",
    "    # Pad left of output with spaces to width of w.\n",
    "    return s.rjust(w)\n",
    "\n",
    "print(currency(99999))\n",
    "print(currency(9999, 15))\n",
    "print(percent(9999, 16))"
   ]
  },
  {
   "cell_type": "code",
   "execution_count": 2,
   "id": "7d069f13",
   "metadata": {},
   "outputs": [
    {
     "name": "stdout",
     "output_type": "stream",
     "text": [
      "10\n",
      "15\n",
      "20\n"
     ]
    }
   ],
   "source": [
    "# ထပ်ခါထပ်ခါ အတွက် return method \n",
    "\n",
    "def func(x):\n",
    "    return 5*x\n",
    "print(func(2))\n",
    "print(func(3))\n",
    "print(func(4))\n"
   ]
  },
  {
   "cell_type": "code",
   "execution_count": 1,
   "id": "21c40fae",
   "metadata": {},
   "outputs": [
    {
     "name": "stdout",
     "output_type": "stream",
     "text": [
      "Python\n"
     ]
    }
   ],
   "source": [
    "# Calling Main Function\n",
    "\n",
    "def a():\n",
    "    print('Hello!')\n",
    "def b():\n",
    "    print('Python')\n",
    "\n",
    "#call main function\n",
    "if __name__ == \"__main__\":b()"
   ]
  },
  {
   "cell_type": "code",
   "execution_count": null,
   "id": "25ba6329",
   "metadata": {},
   "outputs": [],
   "source": []
  }
 ],
 "metadata": {
  "kernelspec": {
   "display_name": "Python 3",
   "language": "python",
   "name": "python3"
  },
  "language_info": {
   "codemirror_mode": {
    "name": "ipython",
    "version": 3
   },
   "file_extension": ".py",
   "mimetype": "text/x-python",
   "name": "python",
   "nbconvert_exporter": "python",
   "pygments_lexer": "ipython3",
   "version": "3.8.8"
  }
 },
 "nbformat": 4,
 "nbformat_minor": 5
}
