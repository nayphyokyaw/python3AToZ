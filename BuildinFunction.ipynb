{
 "cells": [
  {
   "cell_type": "code",
   "execution_count": null,
   "id": "c0fea316",
   "metadata": {},
   "outputs": [],
   "source": [
    "# The slice() function returns a slice object\n",
    "\n",
    "a = (\"python\", \"Java\", \"C++\", \"C#\", \"Rubu\", \"NoteJs\")\n",
    "\n",
    "x = slice(0)\n",
    "y = slice(2)\n",
    "z = slice(6)\n",
    "print(a[x])\n",
    "print(a[y])\n",
    "print(a[z])\n",
    "print(\"\\n\")\n",
    "\n",
    "# Slice(start, end, step)\n",
    "\n",
    "G = slice(2, 5, 1)\n",
    "print(a[G])\n",
    "\n",
    "j = slice(0, 6, 2)\n",
    "print(a[j])\n",
    "\n",
    "k = slice(1, 6, 2)\n",
    "print(a[k])"
   ]
  },
  {
   "cell_type": "code",
   "execution_count": null,
   "id": "37bbe178",
   "metadata": {},
   "outputs": [],
   "source": [
    "# The set() function creates a set object\n",
    "\n",
    "a = set((\"python\", \"Java\", \"C++\", \"C#\", \"Rubu\", \"NoteJs\"))\n",
    "\n",
    "print(a)"
   ]
  },
  {
   "cell_type": "code",
   "execution_count": null,
   "id": "6ae7a736",
   "metadata": {},
   "outputs": [],
   "source": [
    "# The round() function returns a floating number that is a rounded verson \n",
    "# of the specified number with specified number of decimals\n",
    "\n",
    "# round(number, digits)\n",
    "\n",
    "x = round(3.543)\n",
    "print(x)\n",
    "\n",
    "y = round(12.34444454,2)\n",
    "print(y)\n",
    "\n",
    "z = round(12.6547372,5)\n",
    "print(z)"
   ]
  },
  {
   "cell_type": "code",
   "execution_count": null,
   "id": "284c14e0",
   "metadata": {},
   "outputs": [],
   "source": [
    "# divmod(dividend, divisor)\n",
    "\n",
    "# The divmod() function return a tuple containing\n",
    "# the quotient and the remainder when \n",
    "# agr1(dividend) is divided by arg2(divisor)\n",
    "\n",
    "x = 5\n",
    "y = 25\n",
    "z = divmod(x, y)\n",
    "print(z)\n",
    "\n",
    "z1 = divmod(y, x)\n",
    "print(z1)\n",
    "\n",
    "a = 13\n",
    "b = 12\n",
    "c = divmod(a, b)\n",
    "print(c)"
   ]
  },
  {
   "cell_type": "code",
   "execution_count": 38,
   "id": "3a1320b1",
   "metadata": {},
   "outputs": [
    {
     "name": "stdout",
     "output_type": "stream",
     "text": [
      "(12+12j)\n"
     ]
    }
   ],
   "source": [
    "# complex() function returns a complex number by\n",
    "# specifing a real number and a imaginary number.\n",
    "\n",
    "# complex(real, imaginary)\n",
    "\n",
    "x = complex(12, 12)\n",
    "print(x)"
   ]
  },
  {
   "cell_type": "code",
   "execution_count": 39,
   "id": "d103e7e5",
   "metadata": {},
   "outputs": [
    {
     "name": "stdout",
     "output_type": "stream",
     "text": [
      "False\n"
     ]
    }
   ],
   "source": [
    "# This is a normal variable\n",
    "\n",
    "x = \"Amir Sakib Saad\"\n",
    "print(callable(x))\n",
    "\n",
    "# The callable() function returns True if the\n",
    "# spicified object is callabe, a normal variable\n",
    "# is not callable\n",
    "\n",
    "def x():\n",
    "    a = \"\""
   ]
  },
  {
   "cell_type": "code",
   "execution_count": null,
   "id": "ba86bcaf",
   "metadata": {},
   "outputs": [],
   "source": []
  }
 ],
 "metadata": {
  "kernelspec": {
   "display_name": "Python 3",
   "language": "python",
   "name": "python3"
  },
  "language_info": {
   "codemirror_mode": {
    "name": "ipython",
    "version": 3
   },
   "file_extension": ".py",
   "mimetype": "text/x-python",
   "name": "python",
   "nbconvert_exporter": "python",
   "pygments_lexer": "ipython3",
   "version": "3.8.8"
  }
 },
 "nbformat": 4,
 "nbformat_minor": 5
}
