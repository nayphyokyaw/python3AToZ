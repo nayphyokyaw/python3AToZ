{
 "cells": [
  {
   "cell_type": "code",
   "execution_count": 11,
   "id": "7f153292",
   "metadata": {},
   "outputs": [
    {
     "name": "stdout",
     "output_type": "stream",
     "text": [
      "Blu is a bird\n",
      "Woo is also a bird\n",
      "Blu is 10 year old\n",
      "Woo is 15 year old\n"
     ]
    }
   ],
   "source": [
    "class Parrot:\n",
    "    \n",
    "    # class attribute\n",
    "    species = \"bird\"\n",
    "\n",
    "    # instance attribute\n",
    "    def __init__(self, name, age):\n",
    "        self.name = name\n",
    "        self.age = age\n",
    "\n",
    "# instantiate the Parrot class\n",
    "blu = Parrot(\"Blu\", 10)\n",
    "woo = Parrot(\"Woo\", 15)\n",
    "\n",
    "# access the class attributes\n",
    "\n",
    "print('Blu is a {}'.format(blu.__class__.species))\n",
    "print('Woo is also a {}'.format(woo.__class__.species))\n",
    "\n",
    "#access the instance attributes\n",
    "\n",
    "print(\"{} is {} year old\".format(blu.name, blu.age))\n",
    "print(\"{} is {} year old\".format(woo.name, woo.age))"
   ]
  },
  {
   "cell_type": "code",
   "execution_count": 14,
   "id": "467cb654",
   "metadata": {},
   "outputs": [
    {
     "name": "stdout",
     "output_type": "stream",
     "text": [
      "Blu sings 'Happy'\n",
      "Blu is now dancing\n"
     ]
    }
   ],
   "source": [
    "# Creating Methods in Python\n",
    "\n",
    "class Parrot:\n",
    "    \n",
    "    def __init__(self, name, age):\n",
    "        self.name = name\n",
    "        self.age = age\n",
    "        \n",
    "    def sing(self, song):\n",
    "        return \"{} sings {}\".format(self.name, song)\n",
    "      \n",
    "    def dance(self):\n",
    "        return \"{} is now dancing\".format(self.name)\n",
    "    \n",
    "blu = Parrot(\"Blu\", 10)\n",
    "\n",
    "print(blu.sing(\"'Happy'\"))\n",
    "print(blu.dance())\n",
    "    \n",
    "    "
   ]
  },
  {
   "cell_type": "code",
   "execution_count": 15,
   "id": "9986772b",
   "metadata": {},
   "outputs": [
    {
     "name": "stdout",
     "output_type": "stream",
     "text": [
      "Bird is ready\n",
      "Penguin is rady\n",
      "Penguin\n",
      "Swim Faster\n",
      "Run Faster\n"
     ]
    }
   ],
   "source": [
    "#Use of Inheritance in Python\n",
    "\n",
    "# parent class\n",
    "class Bird:\n",
    "    def __init__(self):\n",
    "        print(\"Bird is ready\")\n",
    "        \n",
    "    def whoIsThis(self):\n",
    "        print(\"Bird\")\n",
    "    def swim(self):\n",
    "        print(\"Swim Faster\")\n",
    "        \n",
    "#Child Class\n",
    "class Penguin(Bird):\n",
    "    \n",
    "    def __init__(self):\n",
    "        #Call super() function\n",
    "        super().__init__() #parent class inside the child class.\n",
    "        print(\"Penguin is rady\")\n",
    "    def whoIsThis(self):\n",
    "        print(\"Penguin\")\n",
    "    def run(self):\n",
    "        print(\"Run Faster\")\n",
    "        \n",
    "penggy = Penguin()\n",
    "penggy.whoIsThis()\n",
    "penggy.swim()\n",
    "penggy.run()"
   ]
  },
  {
   "cell_type": "code",
   "execution_count": 19,
   "id": "e9564288",
   "metadata": {},
   "outputs": [
    {
     "name": "stdout",
     "output_type": "stream",
     "text": [
      "Selling price is: 900\n",
      "Selling price is: 900\n",
      "Selling price is: 1000\n"
     ]
    }
   ],
   "source": [
    "#Data Encapsulation in Python\n",
    "\n",
    "class computer:\n",
    "    \n",
    "    def __init__(self):\n",
    "        self.__maxprice = 900\n",
    "        \n",
    "    def sell(self):\n",
    "        print(\"Selling price is: {}\".format(self.__maxprice))\n",
    "    \n",
    "    def setMaxprice(self, price):\n",
    "        self.__maxprice = price\n",
    "        \n",
    "c = computer()\n",
    "c.sell()\n",
    "\n",
    "#change the price\n",
    "c.__maxprice = 1000\n",
    "c.sell()\n",
    "\n",
    "# using setter fuction\n",
    "c.setMaxprice(1000)\n",
    "c.sell()"
   ]
  },
  {
   "cell_type": "code",
   "execution_count": 26,
   "id": "d4193615",
   "metadata": {},
   "outputs": [
    {
     "name": "stdout",
     "output_type": "stream",
     "text": [
      "22\n",
      "23\n"
     ]
    }
   ],
   "source": [
    "# next example\n",
    "\n",
    "class Robot(object):\n",
    "    def __init__(self):\n",
    "        self.__version = 22\n",
    "    def getVersion(self):\n",
    "        print(self.__version)\n",
    "    def setVersion(self, version):\n",
    "        self.__version = version\n",
    "        \n",
    "obj = Robot()\n",
    "obj.getVersion()\n",
    "obj.setVersion(23)\n",
    "obj.getVersion()\n",
    "\n",
    "#print(obj.__version)"
   ]
  },
  {
   "cell_type": "code",
   "execution_count": 30,
   "id": "090763ee",
   "metadata": {},
   "outputs": [
    {
     "name": "stdout",
     "output_type": "stream",
     "text": [
      "Parrot can fly\n",
      "Penguin can't fly\n"
     ]
    }
   ],
   "source": [
    "#Using Polymorphism in Python\n",
    "class Parrot:\n",
    "    \n",
    "    def fly(self):\n",
    "        print(\"Parrot can fly\")\n",
    "        \n",
    "    def swim(self):\n",
    "        print(\"Parrot can'\\t swim\")\n",
    "    \n",
    "class Penguin:\n",
    "    \n",
    "    def fly(self):\n",
    "        print(\"Penguin can't fly\")\n",
    "        \n",
    "    def swim(self):\n",
    "        print(\"Penguin can swim\")\n",
    "        \n",
    "#common interface\n",
    "def flying_test(bird):\n",
    "    bird.fly()\n",
    "    \n",
    "#instanctiate objects\n",
    "blu = Parrot()\n",
    "penggy = Penguin()\n",
    "\n",
    "# passing the object\n",
    "\n",
    "flying_test(blu)\n",
    "flying_test(penggy)"
   ]
  },
  {
   "cell_type": "code",
   "execution_count": null,
   "id": "3d60218b",
   "metadata": {},
   "outputs": [],
   "source": []
  }
 ],
 "metadata": {
  "kernelspec": {
   "display_name": "Python 3",
   "language": "python",
   "name": "python3"
  },
  "language_info": {
   "codemirror_mode": {
    "name": "ipython",
    "version": 3
   },
   "file_extension": ".py",
   "mimetype": "text/x-python",
   "name": "python",
   "nbconvert_exporter": "python",
   "pygments_lexer": "ipython3",
   "version": "3.8.8"
  }
 },
 "nbformat": 4,
 "nbformat_minor": 5
}
