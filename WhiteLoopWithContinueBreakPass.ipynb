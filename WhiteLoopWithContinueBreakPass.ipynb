{
 "cells": [
  {
   "cell_type": "code",
   "execution_count": null,
   "id": "197df194",
   "metadata": {},
   "outputs": [],
   "source": [
    "# break and continue \n",
    "\n",
    "    while <expr>:  # continue come back to here\n",
    "        <statement>\n",
    "        <statement>\n",
    "        break        # go to last statement\n",
    "        <statement>\n",
    "        <statement>\n",
    "        continue   # go back to top while \n",
    "        <statement>\n",
    "        <statement>\n",
    "        \n",
    "    <statement>     #break come here       \n"
   ]
  },
  {
   "cell_type": "code",
   "execution_count": null,
   "id": "930b2fd2",
   "metadata": {},
   "outputs": [],
   "source": [
    "counter = 1\n",
    "while counter < 11:\n",
    "    print('This Count is: ', counter)\n",
    "    counter += 1\n",
    "print(\"Finished!\")"
   ]
  },
  {
   "cell_type": "code",
   "execution_count": null,
   "id": "ccbf5c0e",
   "metadata": {},
   "outputs": [],
   "source": [
    "#The Infinite Loop\n",
    "\n",
    "var = 1\n",
    "while var == 1 :  # This constructs an infinite loop\n",
    "   num = int(input(\"Enter a number  :\"))\n",
    "   print (\"You entered: \", num)\n",
    "\n",
    "print (\"Good bye!\")"
   ]
  },
  {
   "cell_type": "code",
   "execution_count": null,
   "id": "5f42a6a7",
   "metadata": {},
   "outputs": [],
   "source": [
    "#The Infinite Loop solve \n",
    "\n",
    "var = 1 \n",
    "while var == 1: # This constructs an infinitie loop\n",
    "    try:        \n",
    "        num = int(input(\"Enter your number: \"))\n",
    "        print(\"Your Entered: \", num)\n",
    "    except:\n",
    "        print(\"Good Bye!\")\n",
    "        break"
   ]
  },
  {
   "cell_type": "code",
   "execution_count": 23,
   "id": "a6b8b053",
   "metadata": {},
   "outputs": [
    {
     "name": "stdout",
     "output_type": "stream",
     "text": [
      "1\n",
      "2\n",
      "3\n",
      "3 is the finish number of break on this statement\n",
      "Loop End\n"
     ]
    }
   ],
   "source": [
    "# while Loop break statement\n",
    "# With the break statement we can stop the loop even if the while condition is true:\n",
    "\n",
    "i = 1 \n",
    "while i < 5:\n",
    "    print(i)\n",
    "    if i == 3:\n",
    "        break\n",
    "    i += 1\n",
    "print(i, \"is the finish number of break on this statement\")\n",
    "print(\"Loop End\")\n"
   ]
  },
  {
   "cell_type": "code",
   "execution_count": null,
   "id": "b8569d6f",
   "metadata": {},
   "outputs": [],
   "source": [
    "# while loop continue satement\n",
    "\n",
    "n = 5\n",
    "while n > 0:\n",
    "    n -= 1\n",
    "    if n == 2:\n",
    "        continue\n",
    "    print(n)\n",
    "print('Loop ended.')"
   ]
  },
  {
   "cell_type": "code",
   "execution_count": null,
   "id": "69f537b4",
   "metadata": {},
   "outputs": [],
   "source": []
  },
  {
   "cell_type": "code",
   "execution_count": 20,
   "id": "54da40a3",
   "metadata": {},
   "outputs": [
    {
     "name": "stdout",
     "output_type": "stream",
     "text": [
      "0 is less than 5\n",
      "1 is less than 5\n",
      "2 is less than 5\n",
      "3 is less than 5\n",
      "4 is less than 5\n",
      "5 is grater than 5\n"
     ]
    }
   ],
   "source": [
    "#Using else Statement with While Loop\n",
    "count = 0\n",
    "while count < 5:\n",
    "    print(count,  \"is less than 5\")\n",
    "    count = count + 1\n",
    "else:\n",
    "    print(count,  \"is grater than 5\")"
   ]
  },
  {
   "cell_type": "code",
   "execution_count": null,
   "id": "d11b3c68",
   "metadata": {
    "scrolled": true
   },
   "outputs": [],
   "source": [
    "secret_number = 14\n",
    "print('''\n",
    "==========================\n",
    "=== SECRET NUMBER GAME ===\n",
    "==========================\n",
    "''')\n",
    "user_input = int(input('Try to guess the secret number form 0 to 20: '))\n",
    "while user_input != secret_number:\n",
    "    print('Wrong Number!')\n",
    "    user_input = int(input('Try to guess the secret number from 0 to 20: '))\n",
    "print('Perfect! You have guessed the secret number.')"
   ]
  },
  {
   "cell_type": "code",
   "execution_count": 25,
   "id": "38ba7924",
   "metadata": {},
   "outputs": [
    {
     "name": "stdout",
     "output_type": "stream",
     "text": [
      "s\n",
      "t\n",
      "r\n",
      "n\n",
      "g\n",
      "The End\n"
     ]
    }
   ],
   "source": [
    "for val in \"string\":\n",
    "    if val == \"i\":\n",
    "        continue\n",
    "    print(val)\n",
    "print(\"The End\")"
   ]
  },
  {
   "cell_type": "code",
   "execution_count": 29,
   "id": "dd211f12",
   "metadata": {},
   "outputs": [],
   "source": [
    "## In Python programming, the pass statement is a null statement.\n",
    "seq = {'p', 'a', 's', 's'}\n",
    "for val in seq:\n",
    "    pass"
   ]
  },
  {
   "cell_type": "code",
   "execution_count": null,
   "id": "eb01f4b7",
   "metadata": {},
   "outputs": [],
   "source": []
  }
 ],
 "metadata": {
  "kernelspec": {
   "display_name": "Python 3",
   "language": "python",
   "name": "python3"
  },
  "language_info": {
   "codemirror_mode": {
    "name": "ipython",
    "version": 3
   },
   "file_extension": ".py",
   "mimetype": "text/x-python",
   "name": "python",
   "nbconvert_exporter": "python",
   "pygments_lexer": "ipython3",
   "version": "3.8.8"
  }
 },
 "nbformat": 4,
 "nbformat_minor": 5
}
