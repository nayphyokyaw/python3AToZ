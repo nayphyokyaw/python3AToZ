{
 "cells": [
  {
   "cell_type": "code",
   "execution_count": null,
   "id": "9776983b",
   "metadata": {},
   "outputs": [],
   "source": [
    "# Class and Object"
   ]
  },
  {
   "cell_type": "code",
   "execution_count": 1,
   "id": "d92efc08",
   "metadata": {},
   "outputs": [
    {
     "name": "stdout",
     "output_type": "stream",
     "text": [
      "Vehicle created.\n",
      "Destructor called, vehicle deleted.\n"
     ]
    }
   ],
   "source": [
    "#Destructor in a Python class\n",
    "\n",
    "class Vehicle:\n",
    "    def __init__(self):\n",
    "        print('Vehicle created.')\n",
    "\n",
    "    def __del__(self):\n",
    "        print('Destructor called, vehicle deleted.')\n",
    "\n",
    "car = Vehicle() # this is where the object is created and the constructor is called\n",
    "del car  # this is where the destructor function gets called"
   ]
  },
  {
   "cell_type": "code",
   "execution_count": 5,
   "id": "2c03793f",
   "metadata": {},
   "outputs": [
    {
     "name": "stdout",
     "output_type": "stream",
     "text": [
      "10\n",
      "<function Person.greet at 0x0000029464333C10>\n",
      "This is a person class\n",
      "<bound method Person.greet of <__main__.Person object at 0x00000294642A0190>>\n",
      "Hello\n"
     ]
    }
   ],
   "source": [
    "#Creating an Object in Python Class\n",
    "\n",
    "class Person:\n",
    "    \"This is a person class\"\n",
    "    age = 10\n",
    "\n",
    "    def greet(self):\n",
    "        print('Hello')\n",
    "\n",
    "# create a new object of Person class\n",
    "harry = Person()\n",
    "\n",
    "# Output: 10\n",
    "print(Person.age)\n",
    "\n",
    "# Output: <function Person.greet>\n",
    "print(Person.greet)\n",
    "\n",
    "# Output: \"This is a person class\"\n",
    "print(Person.__doc__)\n",
    "\n",
    "# Output: <bound method Person.greet of <__main__.Person object>>\n",
    "print(harry.greet)\n",
    "\n",
    "# Calling object's greet() method\n",
    "# Output: Hello\n",
    "harry.greet()"
   ]
  },
  {
   "cell_type": "code",
   "execution_count": null,
   "id": "369e4034",
   "metadata": {},
   "outputs": [],
   "source": []
  }
 ],
 "metadata": {
  "kernelspec": {
   "display_name": "Python 3",
   "language": "python",
   "name": "python3"
  },
  "language_info": {
   "codemirror_mode": {
    "name": "ipython",
    "version": 3
   },
   "file_extension": ".py",
   "mimetype": "text/x-python",
   "name": "python",
   "nbconvert_exporter": "python",
   "pygments_lexer": "ipython3",
   "version": "3.8.8"
  }
 },
 "nbformat": 4,
 "nbformat_minor": 5
}
