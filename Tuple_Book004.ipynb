{
 "cells": [
  {
   "cell_type": "code",
   "execution_count": 9,
   "id": "19e44432",
   "metadata": {},
   "outputs": [
    {
     "name": "stdout",
     "output_type": "stream",
     "text": [
      "banana\n",
      "\n",
      "\n",
      "<class 'tuple'>\n",
      "<class 'str'>\n"
     ]
    }
   ],
   "source": [
    "# What's a Tuple and who cares?\n",
    "# Tuple can't Change value\n",
    "\n",
    "a = (\"apple\", \"banana\", \"kiwi\")\n",
    "print(a[1])\n",
    "print(\"\\n\")\n",
    "\n",
    "# type of check tuple and string\n",
    "\n",
    "a = (\"banana\", )\n",
    "b = (\"apple\")\n",
    "\n",
    "print(type(a))\n",
    "print(type(b))"
   ]
  },
  {
   "cell_type": "code",
   "execution_count": 13,
   "id": "3cf763d7",
   "metadata": {},
   "outputs": [
    {
     "name": "stdout",
     "output_type": "stream",
     "text": [
      "('apple', 'kiwi', 'cherry')\n"
     ]
    }
   ],
   "source": [
    "# Tuple can't Change value.If you want to change use this method\n",
    "\n",
    "x = ('apple', 'banana', 'cherry')\n",
    "\n",
    "# x Tuble values change list values  y  \n",
    "y =list(x)\n",
    "\n",
    "# instert 1 position on y list values \"kiwi\"\n",
    "y[1] = \"kiwi\"\n",
    "\n",
    "# y list values change with x tuple values\n",
    "x = tuple(y)\n",
    "\n",
    "\n",
    "print(x)"
   ]
  },
  {
   "cell_type": "code",
   "execution_count": 46,
   "id": "a530769b",
   "metadata": {},
   "outputs": [
    {
     "name": "stdout",
     "output_type": "stream",
     "text": [
      "-1\n"
     ]
    }
   ],
   "source": [
    "# prices = (29.25, 9.95, 4.95, 79.65, 3.95)\n",
    "\n",
    "# print(len(prices))\n",
    "# print(prices.count(4.95))\n",
    "# print(4.95 in prices)\n",
    "\n",
    "#.............................................\n",
    "look_for = 12345\n",
    "\n",
    "if look_for in prices:\n",
    "    position = prices.index(look_for)\n",
    "else:\n",
    "    position = -1\n",
    "print(position)\n",
    "\n"
   ]
  },
  {
   "cell_type": "code",
   "execution_count": null,
   "id": "be6f342b",
   "metadata": {},
   "outputs": [],
   "source": [
    "# Loop through and display each item in the tuple\n",
    "\n",
    "prices = (29.25, 9.95, 4.95, 79.65, 3.95)\n",
    "for price in prices:\n",
    "    print(f\"${price:>6,.2f}\")\n",
    "    "
   ]
  },
  {
   "cell_type": "code",
   "execution_count": 79,
   "id": "3e0d2acb",
   "metadata": {},
   "outputs": [
    {
     "name": "stdout",
     "output_type": "stream",
     "text": [
      "{3.95, 4.95, 9.95, 79.65, 29.25}\n",
      "5\n",
      "True\n",
      "\n",
      "Prices_set after .add() and .update()\n",
      "{2.98, 3.95, 4.95, 9.95, 11.23, 79.65, 88, 123.45, 29.25}\n",
      "\n",
      "Loop through set and print each item formatted.\n",
      "$   2.98\n",
      "$   3.95\n",
      "$   4.95\n",
      "$   9.95\n",
      "$  11.23\n",
      "$  79.65\n",
      "$  88.00\n",
      "$ 123.45\n",
      "$  29.25\n"
     ]
    }
   ],
   "source": [
    "# Working with Sets\n",
    "\n",
    "prices_set = {29.25, 9.95, 4.95, 79.65, 3.95}\n",
    "\n",
    "# show the whole set\n",
    "print(prices_set)\n",
    "\n",
    "# Use len to get the length of a set.\n",
    "print(len(prices_set))\n",
    "\n",
    "# Use in to determine if the set contains a value\n",
    "print(79.65 in prices_set)\n",
    "\n",
    "# Use add() to add one item to a set\n",
    "prices_set.add(11.23)\n",
    "\n",
    "# Use update() to add a [list] to a set.\n",
    "prices_set.update([88, 123.45, 2.98])\n",
    "\n",
    "print(\"\\nPrices_set after .add() and .update()\")\n",
    "print(prices_set)\n",
    "\n",
    "# Loop through the set and print each item right-aligned and formatted.\n",
    "print(\"\\nLoop through set and print each item formatted.\")\n",
    "for price in prices_set:\n",
    "    print(f\"${price:>7,.2f}\")\n"
   ]
  },
  {
   "cell_type": "code",
   "execution_count": null,
   "id": "e2069f75",
   "metadata": {},
   "outputs": [],
   "source": []
  }
 ],
 "metadata": {
  "kernelspec": {
   "display_name": "Python 3",
   "language": "python",
   "name": "python3"
  },
  "language_info": {
   "codemirror_mode": {
    "name": "ipython",
    "version": 3
   },
   "file_extension": ".py",
   "mimetype": "text/x-python",
   "name": "python",
   "nbconvert_exporter": "python",
   "pygments_lexer": "ipython3",
   "version": "3.8.8"
  }
 },
 "nbformat": 4,
 "nbformat_minor": 5
}
