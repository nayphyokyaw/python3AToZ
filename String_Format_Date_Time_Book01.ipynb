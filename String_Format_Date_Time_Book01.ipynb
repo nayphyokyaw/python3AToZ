{
 "cells": [
  {
   "cell_type": "code",
   "execution_count": 12,
   "id": "53ba4e6f",
   "metadata": {},
   "outputs": [
    {
     "name": "stdout",
     "output_type": "stream",
     "text": [
      "Thank! i can't do any thing\n",
      "Mary's dog said \"Woof\".\n",
      "I'am kyaw sithu \n",
      "I'am 31 Year old \n",
      "My greaduated on LLB\n"
     ]
    }
   ],
   "source": [
    "print(\"Thank! i can\\'t do any thing\")\n",
    "print(\"Mary's dog said \\\"Woof\\\".\")\n",
    "#print(Thank! i can't do any thing) syntexError\n",
    "print(\"I'am kyaw sithu \\nI'am 31 Year old \\nMy greaduated on LLB\")"
   ]
  },
  {
   "cell_type": "code",
   "execution_count": 21,
   "id": "e6118a16",
   "metadata": {},
   "outputs": [
    {
     "name": "stdout",
     "output_type": "stream",
     "text": [
      "Hello! Kyaw Si Thu\n",
      "Subtotal: $1499.7\n",
      "Subtotal: $1,499.70\n",
      "Subtotal: $1,499.700\n"
     ]
    }
   ],
   "source": [
    "#Formatting with f-strings\n",
    "\n",
    "username = \"Kyaw Si Thu\"\n",
    "print(f\"Hello! {username}\")\n",
    "\n",
    "unit_price = 49.99\n",
    "quantity = 30\n",
    "print(f\"Subtotal: ${unit_price * quantity}\")\n",
    "print(f\"Subtotal: ${quantity * unit_price:,.2f}\")\n",
    "print(f\"Subtotal: ${unit_price * quantity:,.3f}\")"
   ]
  },
  {
   "cell_type": "code",
   "execution_count": 24,
   "id": "49b2a28a",
   "metadata": {},
   "outputs": [
    {
     "name": "stdout",
     "output_type": "stream",
     "text": [
      "Sale Tax Rate: 6.50%\n"
     ]
    }
   ],
   "source": [
    "#Formatting with percent numbers\n",
    "\n",
    "salesTaxRate = 0.065\n",
    "print(f\"Sale Tax Rate: {salesTaxRate:.2%}\")"
   ]
  },
  {
   "cell_type": "code",
   "execution_count": 26,
   "id": "9d215c25",
   "metadata": {},
   "outputs": [
    {
     "name": "stdout",
     "output_type": "stream",
     "text": [
      "Sales Tax Rate 6.50%\n",
      "Sales Tax Rate 6.50%\n",
      "Sales Tax Rate 6.50%\n",
      "Sales Tax Rate 6.50%\n"
     ]
    }
   ],
   "source": [
    "#f-string can be encased in single, double, or triple quotation marks.\n",
    "\n",
    "salesTaxRate = 0.065\n",
    "sample1 = f'Sales Tax Rate {salesTaxRate:.2%}'\n",
    "sample2 = f\"Sales Tax Rate {salesTaxRate:.2%}\"\n",
    "sample3 = f\"\"\"Sales Tax Rate {salesTaxRate:.2%}\"\"\"\n",
    "sample4 = f'''Sales Tax Rate {salesTaxRate:.2%}'''\n",
    "\n",
    "print(sample1)\n",
    "print(sample2)\n",
    "print(sample3)\n",
    "print(sample4)"
   ]
  },
  {
   "cell_type": "code",
   "execution_count": 27,
   "id": "cecc4bb2",
   "metadata": {},
   "outputs": [
    {
     "name": "stdout",
     "output_type": "stream",
     "text": [
      "Kyaw \n",
      "Nay \n",
      "Aung\n"
     ]
    }
   ],
   "source": [
    "#Making multiline format strings\n",
    "\n",
    "user1 = \"Kyaw\"\n",
    "user2 = \"Nay\"\n",
    "user3 = \"Aung\"\n",
    "output = f\"{user1} \\n{user2} \\n{user3}\"\n",
    "print(output)"
   ]
  },
  {
   "cell_type": "code",
   "execution_count": 29,
   "id": "17141d6b",
   "metadata": {},
   "outputs": [
    {
     "name": "stdout",
     "output_type": "stream",
     "text": [
      "\n",
      "    Subtotal:  $1,599.36\n",
      "    Sales Tax: $89.56\n",
      "    total:     $1,688.92   \n",
      "\n"
     ]
    }
   ],
   "source": [
    "#A multiline f-string enclosed in triple quotation marks.\n",
    "\n",
    "unit_price = 49.98\n",
    "quantity = 32\n",
    "sales_tax_rate = 0.056\n",
    "\n",
    "subtotal = quantity * unit_price\n",
    "sales_tax = sales_tax_rate * subtotal\n",
    "total = subtotal + sales_tax\n",
    "output = f\"\"\"\n",
    "    Subtotal:  ${subtotal:,.2f}\n",
    "    Sales Tax: ${sales_tax:,.2f}\n",
    "    total:     ${total:,.2f}   \n",
    "\"\"\"\n",
    "print(output)"
   ]
  },
  {
   "cell_type": "code",
   "execution_count": 32,
   "id": "d71d571f",
   "metadata": {},
   "outputs": [
    {
     "name": "stdout",
     "output_type": "stream",
     "text": [
      "\n",
      "    Subtotal:  $ 1,599.36\n",
      "    Sales Tax: $    89.56\n",
      "    total:     $ 1,688.92   \n",
      "\n"
     ]
    }
   ],
   "source": [
    "#f format => right aligned and 9 characters wide. <9\n",
    "#f format => left aligned and 9 characters wide. >9\n",
    "# ^ = for centered aligned\n",
    "\n",
    "unit_price = 49.98\n",
    "quantity = 32\n",
    "sales_tax_rate = 0.056\n",
    "\n",
    "subtotal = quantity * unit_price\n",
    "sales_tax = sales_tax_rate * subtotal\n",
    "total = subtotal + sales_tax\n",
    "output = f\"\"\"\n",
    "    Subtotal:  ${subtotal:>9,.2f}\n",
    "    Sales Tax: ${sales_tax:>9,.2f}\n",
    "    total:     ${total:>9,.2f}   \n",
    "\"\"\"\n",
    "print(output)"
   ]
  },
  {
   "cell_type": "code",
   "execution_count": 36,
   "id": "82016d52",
   "metadata": {},
   "outputs": [
    {
     "name": "stdout",
     "output_type": "stream",
     "text": [
      "\n",
      "    Subtotal: $1,588.80\n",
      "    Sales Tax:  $103.27\n",
      "    Subtotal: $1,692.07\n",
      "\n"
     ]
    }
   ],
   "source": [
    "# Numerical values\n",
    "\n",
    "unit_price = 49.65\n",
    "quantity = 32\n",
    "sales_tax_rate = 0.065\n",
    "\n",
    "subtotal = unit_price * quantity\n",
    "sales_tax = sales_tax_rate * subtotal\n",
    "total = subtotal + sales_tax\n",
    "\n",
    "# Format amout to show as string with leading dollar sign.\n",
    "s_subtotal = \"$\" + f\"{subtotal:,.2f}\"\n",
    "s_sales_tax = \"$\" + f\"{sales_tax:,.2f}\"\n",
    "s_total = \"$\" + f\"{total:,.2f}\"\n",
    "\n",
    "#Output the string with dollar sign already attached\n",
    "output = f\"\"\"\n",
    "    Subtotal: {s_subtotal:>9}\n",
    "    Sales Tax: {s_sales_tax:>8}\n",
    "    Subtotal: {s_total:>9}\n",
    "\"\"\"\n",
    "print(output)\n"
   ]
  },
  {
   "cell_type": "code",
   "execution_count": 38,
   "id": "13875710",
   "metadata": {},
   "outputs": [
    {
     "name": "stdout",
     "output_type": "stream",
     "text": [
      "AlanCSimpson\n",
      "Alan C. Simpson\n"
     ]
    }
   ],
   "source": [
    "#Concatenating strings\n",
    "\n",
    "F_name = \"Alan\"\n",
    "M_name = \"C\"\n",
    "L_name = \"Simpson\"\n",
    "full_name = F_name + M_name + L_name\n",
    "# with Concatenting String\n",
    "full_Cname = F_name + \" \" + M_name + \". \" + L_name\n",
    "print(full_name)\n",
    "\n",
    "print(full_Cname)"
   ]
  },
  {
   "cell_type": "code",
   "execution_count": 1,
   "id": "9cff86e2",
   "metadata": {},
   "outputs": [
    {
     "name": "stdout",
     "output_type": "stream",
     "text": [
      "0\n",
      "1\n",
      "5\n"
     ]
    }
   ],
   "source": [
    "# Length of a string\n",
    "\n",
    "a = \"\"\n",
    "b = \" \"\n",
    "c = \"A B C\"\n",
    "print(len(a))\n",
    "print(len(b))\n",
    "print(len(c))"
   ]
  },
  {
   "cell_type": "code",
   "execution_count": null,
   "id": "f3592f7e",
   "metadata": {},
   "outputs": [],
   "source": [
    "#Python Sequence Operators That Work with build-in Strings\n",
    "\n",
    "s = \"Abracadabra HOCUS Pocus you're a turtle dove\"\n",
    "\n",
    "#Is there a lowercase letter t is contained is s?\n",
    "print(\"t\" in s)\n",
    "#Is there an uppercase T is contained in S?\n",
    "print(\"T\" in s)\n",
    "#Is there no uppercase T in s?S\n",
    "print(\"T\" not in s)\n",
    "#Print 15 hyphens in a row\n",
    "print(\".\" * 15)\n",
    "#Print first characters in string x\n",
    "print(s[0])\n",
    "#Print characters 33 - 39 from string x\n",
    "print(s[33:39])\n",
    "#print every third character in s starting at zero\n",
    "print(s[0:44:3])\n",
    "#Print lowest character is s (a space is lower than the letter a)\n",
    "print(min(s))\n",
    "#Print the highest character is s\n",
    "print(max(s))\n",
    "# Where is the first uppercase p?\n",
    "print(s.index(\"P\"))\n",
    "# Where is the first lowercase 0 in the latter half of string s\n",
    "# Note that the returned value staill start counting from zero\n",
    "print(s.index(\"o\", 22, 44))\n",
    "#How many lowercase latter a are in string s?\n",
    "print(s.count(\"a\"))"
   ]
  },
  {
   "cell_type": "code",
   "execution_count": null,
   "id": "7f43e27e",
   "metadata": {},
   "outputs": [],
   "source": [
    "# Page 152"
   ]
  },
  {
   "cell_type": "code",
   "execution_count": null,
   "id": "18389188",
   "metadata": {},
   "outputs": [],
   "source": [
    "# Multipulating build-in string with method  \n",
    "# string.methodname(params)\n",
    "\n",
    "s1 = \"There is no such word as schmeedledorp\"\n",
    "s2 = \"   a b c   \"\n",
    "s3 = \"ABC\"\n",
    "s4 = \"On my way,This is the number of dot.\"\n",
    "\n",
    "# Captoalize first letter, the rest lowercase\n",
    "print(s3.capitalize())\n",
    "#Count the number of space in s1\n",
    "print(s1.count(\" \"))\n",
    "#Find the dot in s4\n",
    "print(s4.find(\".\"))\n",
    "#Is s2 all lowercase letters?\n",
    "print(s2.islower())\n",
    "#Convert s3 to all lowercase\n",
    "print(s3.lower())\n",
    "#String leading character form s2\n",
    "print(s2.lstrip())\n",
    "#Strung leading and trailing character form s2\n",
    "print(s2.strip())\n",
    "#Swap the case of letter in s1\n",
    "print(s1.swapcase())\n",
    "#Show s1 in title case (initial caps)\n",
    "print(s1.title())\n",
    "# Show s1 uppercase\n",
    "print(s1.upper())"
   ]
  },
  {
   "cell_type": "code",
   "execution_count": 40,
   "id": "dffdeb02",
   "metadata": {},
   "outputs": [
    {
     "name": "stdout",
     "output_type": "stream",
     "text": [
      "2021-08-18\n",
      "2021-01-01\n",
      "1\n",
      "1\n",
      "2021\n"
     ]
    }
   ],
   "source": [
    "# Date and Time \n",
    "import datetime as dt\n",
    "# Put today's date in today variable\n",
    "today = dt.date.today()\n",
    "# Put another date in military_croup\n",
    "military_croup = dt.date(2021, 1, 1)\n",
    "\n",
    "#see what's in each variable.\n",
    "\n",
    "print(today)\n",
    "print(military_croup)\n",
    "print(military_croup.month)\n",
    "print(military_croup.day)\n",
    "print(military_croup.year)"
   ]
  },
  {
   "cell_type": "code",
   "execution_count": 44,
   "id": "f8a9cf3f",
   "metadata": {},
   "outputs": [
    {
     "name": "stdout",
     "output_type": "stream",
     "text": [
      " Friday, January 01, 2021\n",
      " 08/18/2021\n"
     ]
    }
   ],
   "source": [
    "# Date and Time with format\n",
    "import datetime as dt\n",
    "# Put today's date in today variable\n",
    "today = dt.date.today()\n",
    "# Put another date in military_croup\n",
    "military_croup = dt.date(2021, 1, 1)\n",
    "todays_date = f\"{today: %m/%d/%Y}\"\n",
    "\n",
    "print(f\"{military_croup: %A, %B %d, %Y}\")\n",
    "print(todays_date)"
   ]
  },
  {
   "cell_type": "code",
   "execution_count": null,
   "id": "de5b163a",
   "metadata": {},
   "outputs": [],
   "source": [
    "# Note Sample Date format strings\n",
    "# Format String                        Example\n",
    "# %a, %b %d %Y                         Sat, Jun 01 2019\n",
    "# %x                                   06/01/19\n",
    "# %m-%d-%y                             06-01-19\n",
    "# This %A %B %d                        This Staturday June 01\n",
    "# %A %B %d is day number %j of %Y      Saturday June 01 is day number 152 of 2019\n",
    "# %A %B at %I:%M%P                     Tuesday, December 31 at 11:59PM\n",
    "# %m/%d/%y at %H:%M%P                  12/31/19 at 23:59\n",
    "# %I:%M %P on %d                       11:59 PM on Dec 31\n",
    "# %c                                   Tue Dec 31 23:59:00 2019\n",
    "# %m/%d/%y at %I:%M %P                 12/31/19 at 11:59 PM\n",
    "# %I:%M %P on %m/%d/%y                 1:59 PM on 12/31/2019"
   ]
  },
  {
   "cell_type": "code",
   "execution_count": 7,
   "id": "93b3d5bb",
   "metadata": {},
   "outputs": [
    {
     "name": "stdout",
     "output_type": "stream",
     "text": [
      "You are 34 years and 4 months old.\n"
     ]
    }
   ],
   "source": [
    "# Caculation age in year and months form a timedelta object\n",
    "\n",
    "import datetime as dt\n",
    "# Today's date according to your computer\n",
    "today = dt.date.today()\n",
    "\n",
    "# Any birthdate expressed as year, month, day\n",
    "birthdate = dt.date(1987, 4, 6)\n",
    "\n",
    "# Duration between the dates as a timedelta\n",
    "delta_age = (today - birthdate)\n",
    "\n",
    "#Duration between the dates as a number (of dats)\n",
    "days_old = delta_age.days\n",
    "\n",
    "# Floor divide days by 365 to get the number of years\n",
    "years = days_old // 365\n",
    "\n",
    "# Days left over is remainder of days_old dovided by 365.\n",
    "# Floor divide that remainder by 30 for approximate months.\n",
    "months = (days_old % 365) // 30\n",
    "\n",
    "# print in a format to your liking\n",
    "print(f\"You are {years} years and {months} months old.\")"
   ]
  },
  {
   "cell_type": "code",
   "execution_count": 21,
   "id": "ae2f20c1",
   "metadata": {},
   "outputs": [
    {
     "ename": "ValueError",
     "evalue": "Invalid format string",
     "output_type": "error",
     "traceback": [
      "\u001b[1;31m---------------------------------------------------------------------------\u001b[0m",
      "\u001b[1;31mValueError\u001b[0m                                Traceback (most recent call last)",
      "\u001b[1;32m<ipython-input-21-6692433c6b15>\u001b[0m in \u001b[0;36m<module>\u001b[1;34m\u001b[0m\n\u001b[0;32m     16\u001b[0m \u001b[1;33m\u001b[0m\u001b[0m\n\u001b[0;32m     17\u001b[0m \u001b[1;31m# print(f\"My Time:{here_now:%I:%M %P}\")\u001b[0m\u001b[1;33m\u001b[0m\u001b[1;33m\u001b[0m\u001b[1;33m\u001b[0m\u001b[0m\n\u001b[1;32m---> 18\u001b[1;33m \u001b[0mprint\u001b[0m\u001b[1;33m(\u001b[0m\u001b[1;34mf\"UTC Time   : {utc_now:%H:%M %P}\"\u001b[0m\u001b[1;33m)\u001b[0m\u001b[1;33m\u001b[0m\u001b[1;33m\u001b[0m\u001b[0m\n\u001b[0m\u001b[0;32m     19\u001b[0m \u001b[0mprint\u001b[0m\u001b[1;33m(\u001b[0m\u001b[1;34mf\"Difference : {time_difference}\"\u001b[0m\u001b[1;33m)\u001b[0m\u001b[1;33m\u001b[0m\u001b[1;33m\u001b[0m\u001b[0m\n",
      "\u001b[1;31mValueError\u001b[0m: Invalid format string"
     ]
    }
   ],
   "source": [
    "# Working with Time Zones\n",
    "\n",
    "# Get the datetime module and give it an alias \n",
    "import datetime as dt\n",
    "\n",
    "# Get the time from computer clock\n",
    "here_now = dt.datetime.now()\n",
    "\n",
    "# Get the UTC datetime right now\n",
    "utc_now = dt.datetime.utcnow()\n",
    "\n",
    "# Subtract to see difference\n",
    "time_difference = (utc_now - here_now)\n",
    "\n",
    "# Show result\n",
    "\n",
    "# print(f\"My Time:{here_now:%I:%M %P}\")\n",
    "print(f\"UTC Time   : {utc_now:%H:%M %P}\")\n",
    "print(f\"Difference : {time_difference}\")\n"
   ]
  },
  {
   "cell_type": "code",
   "execution_count": 23,
   "id": "4b184646",
   "metadata": {
    "scrolled": true
   },
   "outputs": [
    {
     "ename": "ValueError",
     "evalue": "Invalid format string",
     "output_type": "error",
     "traceback": [
      "\u001b[1;31m---------------------------------------------------------------------------\u001b[0m",
      "\u001b[1;31mValueError\u001b[0m                                Traceback (most recent call last)",
      "\u001b[1;32m<ipython-input-23-338af2c8b4cc>\u001b[0m in \u001b[0;36m<module>\u001b[1;34m\u001b[0m\n\u001b[0;32m      8\u001b[0m \u001b[1;31m# UTC time right now.\u001b[0m\u001b[1;33m\u001b[0m\u001b[1;33m\u001b[0m\u001b[1;33m\u001b[0m\u001b[0m\n\u001b[0;32m      9\u001b[0m \u001b[0mutc\u001b[0m \u001b[1;33m=\u001b[0m \u001b[0mdt\u001b[0m\u001b[1;33m.\u001b[0m\u001b[0mdatetime\u001b[0m\u001b[1;33m.\u001b[0m\u001b[0mnow\u001b[0m\u001b[1;33m(\u001b[0m\u001b[0mgettz\u001b[0m\u001b[1;33m(\u001b[0m\u001b[1;34m'Etc/UTC'\u001b[0m\u001b[1;33m)\u001b[0m\u001b[1;33m)\u001b[0m\u001b[1;33m\u001b[0m\u001b[1;33m\u001b[0m\u001b[0m\n\u001b[1;32m---> 10\u001b[1;33m \u001b[0mprint\u001b[0m\u001b[1;33m(\u001b[0m\u001b[1;34mf\"{utc:%A %D %I:%M %P %Z}\"\u001b[0m\u001b[1;33m)\u001b[0m\u001b[1;33m\u001b[0m\u001b[1;33m\u001b[0m\u001b[0m\n\u001b[0m",
      "\u001b[1;31mValueError\u001b[0m: Invalid format string"
     ]
    }
   ],
   "source": [
    "# \n",
    "\n",
    "# import datetime, give it an alias\n",
    "import datetime as dt\n",
    "# import timezone helpers form dateutil\n",
    "from dateutil.tz import gettz\n",
    "\n",
    "# UTC time right now.\n",
    "utc = dt.datetime.now(gettz('Etc/UTC'))\n",
    "print(f\"{utc:%A %D %I:%M %P %Z}\")"
   ]
  },
  {
   "cell_type": "code",
   "execution_count": null,
   "id": "0107fa5e",
   "metadata": {},
   "outputs": [],
   "source": []
  }
 ],
 "metadata": {
  "kernelspec": {
   "display_name": "Python 3",
   "language": "python",
   "name": "python3"
  },
  "language_info": {
   "codemirror_mode": {
    "name": "ipython",
    "version": 3
   },
   "file_extension": ".py",
   "mimetype": "text/x-python",
   "name": "python",
   "nbconvert_exporter": "python",
   "pygments_lexer": "ipython3",
   "version": "3.8.8"
  }
 },
 "nbformat": 4,
 "nbformat_minor": 5
}
