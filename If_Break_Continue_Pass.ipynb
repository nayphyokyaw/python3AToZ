{
 "cells": [
  {
   "cell_type": "code",
   "execution_count": 4,
   "id": "34471ebb",
   "metadata": {},
   "outputs": [
    {
     "name": "stdout",
     "output_type": "stream",
     "text": [
      "Enter a number: 0\n",
      "The number:  0  is zero.\n",
      "\n"
     ]
    }
   ],
   "source": [
    "#Positive, negative, zero\n",
    "#Prompt the user to enter a number\n",
    "\n",
    "x_str = input ('Enter a number: ')\n",
    "\n",
    "#Convert the input to int\n",
    "\n",
    "num = int (x_str)\n",
    "\n",
    "#Check if num is positive, negative or zero\n",
    "#Check if num is greater than 0\n",
    "if (num > 0): #Statements to be executed if num is greater than 0\n",
    "    print (\"The number: \", num, \" is positive.\\n\")\n",
    "elif (num < 0): #Check if num is less than 0 \n",
    "    #Statements to be executed if num is less than 0\n",
    "    print (\"The number: \", num, \" is negative.\\n\")\n",
    "else: #If the number is neither positive nor negative, it is 0\n",
    "    #Statements to be executed if num is equal to 0\n",
    "    print (\"The number: \", num, \" is zero.\\n\")"
   ]
  },
  {
   "cell_type": "code",
   "execution_count": null,
   "id": "1fea3112",
   "metadata": {},
   "outputs": [],
   "source": [
    "#break demo\n",
    "#Initialize count to 0\n",
    "       \n",
    "count = 0 \n",
    "\n",
    "while(count < 9): #Loop from 0 to 9\n",
    "    if (count == 5): #Check if count is 5\n",
    "        break\n",
    "    print(count)\n",
    "    count = count + 1  #Increment count"
   ]
  },
  {
   "cell_type": "code",
   "execution_count": null,
   "id": "460d3a4a",
   "metadata": {},
   "outputs": [],
   "source": [
    "#break demo1\n",
    "\n",
    "while True:\n",
    "    name = input(\"Enter your name or EXIT to close the program: \")\n",
    "    if (name == 'EXIT'):\n",
    "        break\n",
    "    print('Hello', name)\n"
   ]
  },
  {
   "cell_type": "code",
   "execution_count": null,
   "id": "03f080fb",
   "metadata": {},
   "outputs": [],
   "source": [
    "#continue demo\n",
    "#Initialize count to 0\n",
    "count = 0\n",
    "#Loop from 0 to 9\n",
    "while (count < 10):\n",
    "#Increment count\n",
    "    count = count + 1\n",
    "    #Check if count x 5 is a multiple of 2  # count ကို 5 နဲ့မြှောက်ပြီးရတဲ့ဖြေကို 2 နဲ့စားလို့ အကြွင်း 0ရတာကိုစစ်မယ်\n",
    "    if ((count * 5) % 2 == 0):\n",
    "        #Skip this iteration if count x 5 is a multiple of 2   #count x 5 ကို 2 နဲ့စားလို့ရတာ ကျော်မယ်\n",
    "        continue\n",
    "    #Print count x 5\n",
    "    print (count * 5)"
   ]
  },
  {
   "cell_type": "code",
   "execution_count": null,
   "id": "4dbb399b",
   "metadata": {
    "scrolled": false
   },
   "outputs": [],
   "source": [
    "for i in range (1, 21):\n",
    "    if i % 5 == 0: # ၅ နဲ့စားလို့ ၅ကြွင်း ၀ ဖြစ်တတွေကိုချန်ထားခဲ့မယ် \n",
    "        continue\n",
    "    print(i)"
   ]
  },
  {
   "cell_type": "code",
   "execution_count": null,
   "id": "c4ff1a6d",
   "metadata": {},
   "outputs": [],
   "source": [
    "#pass\n",
    "#Initialize count to 1\n",
    "# ၃ နဲ့ စားလို့ အကြွင်း ၀ မကျန်တဲ့ ကိန်းကို ၁ မှ ၁၅ ထိ ပြ ရန်\n",
    "\n",
    "count = 1\n",
    "\n",
    "while (count <= 15): # Loop form 1 to 15\n",
    "    if (count %3 == 0): # Check if count is a multiple of 3\n",
    "        pass   # Do nothing here\n",
    "    else:\n",
    "        print(count)\n",
    "    count = count + 1 # Increment count"
   ]
  },
  {
   "cell_type": "code",
   "execution_count": 4,
   "id": "224d8f49",
   "metadata": {},
   "outputs": [],
   "source": [
    "# Other Loop addiotional Feature\n",
    "\n",
    "for i in range (11):\n",
    "    pass"
   ]
  },
  {
   "cell_type": "code",
   "execution_count": null,
   "id": "6ccf21ea",
   "metadata": {
    "scrolled": true
   },
   "outputs": [],
   "source": [
    "for a in range (1, 6):\n",
    "    for b in range(1, 6):\n",
    "        print(a, 'x', b, '=', a * b)"
   ]
  },
  {
   "cell_type": "code",
   "execution_count": null,
   "id": "b8c6a18f",
   "metadata": {},
   "outputs": [],
   "source": []
  }
 ],
 "metadata": {
  "kernelspec": {
   "display_name": "Python 3",
   "language": "python",
   "name": "python3"
  },
  "language_info": {
   "codemirror_mode": {
    "name": "ipython",
    "version": 3
   },
   "file_extension": ".py",
   "mimetype": "text/x-python",
   "name": "python",
   "nbconvert_exporter": "python",
   "pygments_lexer": "ipython3",
   "version": "3.8.8"
  }
 },
 "nbformat": 4,
 "nbformat_minor": 5
}
