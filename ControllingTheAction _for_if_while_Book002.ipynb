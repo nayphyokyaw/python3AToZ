{
 "cells": [
  {
   "cell_type": "code",
   "execution_count": null,
   "id": "95467f86",
   "metadata": {},
   "outputs": [],
   "source": [
    "# >> Deciding with if\n",
    "# >> Repeating with for\n",
    "# >> Looping with While\n",
    "\n",
    "# >> and      Both are true\n",
    "# >> or       One or other is true\n",
    "# >> not      Is not true"
   ]
  },
  {
   "cell_type": "code",
   "execution_count": 3,
   "id": "ad6fbb20",
   "metadata": {},
   "outputs": [
    {
     "name": "stdout",
     "output_type": "stream",
     "text": [
      "I am here\n"
     ]
    }
   ],
   "source": [
    "sun = \"up\"\n",
    "if sun == \"down\": print(\"Good Night!\")\n",
    "print(\"I am here\")"
   ]
  },
  {
   "cell_type": "code",
   "execution_count": 20,
   "id": "0b9168d4",
   "metadata": {},
   "outputs": [
    {
     "name": "stdout",
     "output_type": "stream",
     "text": [
      "Subtotal : $100.00\n",
      "Sales Tax: $  6.50\n",
      "Total    : $106.50\n"
     ]
    }
   ],
   "source": [
    "total = 100\n",
    "sales_tax_rate = 0.065\n",
    "taxable = True\n",
    "if taxable:\n",
    "    print(f\"Subtotal : ${total:.2f}\")\n",
    "    sales_tax = total * sales_tax_rate\n",
    "    print(f\"Sales Tax: ${sales_tax:>6,.2f}\")\n",
    "    total = total + sales_tax\n",
    "print(f\"Total    : ${total:.2f}\")   "
   ]
  },
  {
   "cell_type": "code",
   "execution_count": 21,
   "id": "bec442e7",
   "metadata": {},
   "outputs": [
    {
     "name": "stdout",
     "output_type": "stream",
     "text": [
      "Good Morning\n",
      "I hope you are doing well!\n"
     ]
    }
   ],
   "source": [
    "# if condition:\n",
    "#     do indented lines here\n",
    "#     ...\n",
    "# else:\n",
    "#     do indented lines here\n",
    "#     ...\n",
    "# do remaining un-indented lines no matter what\n",
    "\n",
    "import datetime as dt\n",
    "# Get the current date and time\n",
    "now = dt.datetime.now()\n",
    "# Make a decision based on hour\n",
    "if now.hour < 12:\n",
    "    print(\"Good Morning\")\n",
    "else:\n",
    "    print(\"Good Afternoon\")\n",
    "print(\"I hope you are doing well!\")\n",
    "                "
   ]
  },
  {
   "cell_type": "code",
   "execution_count": 22,
   "id": "1ff6c02d",
   "metadata": {},
   "outputs": [
    {
     "name": "stdout",
     "output_type": "stream",
     "text": [
      "Go\n",
      "This code excutes no matter what\n"
     ]
    }
   ],
   "source": [
    "# Handling multiple else statements with elif\n",
    "\n",
    "# if condition:\n",
    "#     do indented lines here\n",
    "#     ...\n",
    "# elif:\n",
    "#     do indented lines here\n",
    "#     ...\n",
    "# do thes un-indented lines of code no matter what\n",
    "\n",
    "light_color = \"green\"\n",
    "if light_color == \"green\":\n",
    "    print(\"Go\")\n",
    "elif light_color == \"red\":\n",
    "    print(\"Stop\")\n",
    "print(\"This code excutes no matter what\")"
   ]
  },
  {
   "cell_type": "code",
   "execution_count": 24,
   "id": "717d36b5",
   "metadata": {},
   "outputs": [
    {
     "name": "stdout",
     "output_type": "stream",
     "text": [
      "Proceeed with caution\n",
      "This code excutes no matter what\n"
     ]
    }
   ],
   "source": [
    "# if ALl condition is false\n",
    "\n",
    "color = \"green\"\n",
    "if color == \"blue\":\n",
    "    print(\"Go\")\n",
    "elif color == \"red\":\n",
    "    print(\"Stop\")\n",
    "else:\n",
    "    print(\"Proceeed with caution\")\n",
    "print(\"This code excutes no matter what\")\n"
   ]
  },
  {
   "cell_type": "code",
   "execution_count": 34,
   "id": "0183118d",
   "metadata": {},
   "outputs": [
    {
     "name": "stdout",
     "output_type": "stream",
     "text": [
      "Please Enter you'r AGE: 20\n",
      "Have a prune juice\n"
     ]
    }
   ],
   "source": [
    "# Ternary operations\n",
    "\n",
    "age = int(input(\"Please Enter you'r AGE: \"))\n",
    "if age < 10:\n",
    "    beverage = \"Milk\"\n",
    "elif age >= 21 and age < 80:\n",
    "    beverage = \"beer\"\n",
    "else:\n",
    "    beverage = \"prune juice\"\n",
    "print(f\"Have a {beverage}\")"
   ]
  },
  {
   "cell_type": "code",
   "execution_count": 35,
   "id": "031b659e",
   "metadata": {},
   "outputs": [
    {
     "name": "stdout",
     "output_type": "stream",
     "text": [
      "Have a Beer\n"
     ]
    }
   ],
   "source": [
    "age = 31\n",
    "\n",
    "if age < 21:\n",
    "    # If under 21, no alcohol\n",
    "    beverage = \"Milk\"\n",
    "elif age >= 21 and age < 80:\n",
    "    # Age 21 - 79, suggest beer\n",
    "    beverage = \"Beer\"\n",
    "else:\n",
    "    # If 80 or older, prune juice might be a good choice.\n",
    "    beverage = \"prune juice\"\n",
    "    \n",
    "print(\"Have a \" + beverage)"
   ]
  },
  {
   "cell_type": "code",
   "execution_count": null,
   "id": "aefeffd0",
   "metadata": {},
   "outputs": [],
   "source": [
    "# Repeating a Process with for\n",
    " # Looping through number in a range\n",
    "# for x in range (y):\n",
    "#     do this \n",
    "#     do this\n",
    "#     ....\n",
    "# un-indented code is excuted after the loop\n",
    "\n",
    "\n",
    "for x in range (1, 11):\n",
    "    print(x)\n",
    "print(\"All done\")"
   ]
  },
  {
   "cell_type": "code",
   "execution_count": null,
   "id": "3a0c63e0",
   "metadata": {},
   "outputs": [],
   "source": [
    "# Looping through a string\n",
    "\n",
    "# for x in string\n",
    "#     do this \n",
    "#     do this\n",
    "#     ...\n",
    "# do this when the loop is done\n",
    "\n",
    "for x in \"Snorkel\":\n",
    "    print(x)\n",
    "print(\"Done\")\n",
    "\n",
    "# Can be the name of any variable that contains a string.\n",
    "\n",
    "myWord = \"snorkel\"\n",
    "for x in myWord:\n",
    "    print(x)\n",
    "print(\"Done\")"
   ]
  },
  {
   "cell_type": "code",
   "execution_count": 44,
   "id": "ed3ec212",
   "metadata": {},
   "outputs": [
    {
     "name": "stdout",
     "output_type": "stream",
     "text": [
      "Cat\n",
      "Dog\n",
      "pingune\n",
      "horse\n",
      "This animal name is: horse\n",
      "\n"
     ]
    }
   ],
   "source": [
    "#Looping through the list\n",
    "\n",
    "# for x in [\"rain\", 'in', 'Spain']:\n",
    "#     print(x)\n",
    "# print(\"Done\")\n",
    "\n",
    "# Can be the name of any variable that contains a string.\n",
    "animal = [\"Cat\", \"Dog\", \"pingune\", \"horse\"]\n",
    "for i in animal:\n",
    "    print(i)\n",
    "print(f\"This animal name is: {i}\\n\")"
   ]
  },
  {
   "cell_type": "code",
   "execution_count": 45,
   "id": "06fe9733",
   "metadata": {},
   "outputs": [
    {
     "name": "stdout",
     "output_type": "stream",
     "text": [
      "A\n",
      "B\n",
      "C\n",
      "D\n",
      "Loop is done\n"
     ]
    }
   ],
   "source": [
    "# Bailing out of a loop\n",
    "\n",
    "# fo x in items:\n",
    "#     if condition:\n",
    "#         [do this ... ]\n",
    "#         break\n",
    "#     do this\n",
    "\n",
    "answers = [\"A\", \"B\", \"C\", \"D\"]\n",
    "for answer in answers:\n",
    "    if answer ==\"\": # \"\" is indicated by empty string:\n",
    "        print(\"Incomplete\")\n",
    "        break\n",
    "    print(answer)\n",
    "print(\"Loop is done\")"
   ]
  },
  {
   "cell_type": "code",
   "execution_count": null,
   "id": "1016e4a5",
   "metadata": {},
   "outputs": [],
   "source": [
    "answers = [\"A\", \"B\", \"\", \"C\", \"D\"]\n",
    "for answer in answers:\n",
    "    if answer ==\"\": # \"\" is indicated by empty string:\n",
    "        print(\"Incomplete\")\n",
    "        break\n",
    "    print(answer)\n",
    "print(\"Loop is done\")"
   ]
  },
  {
   "cell_type": "code",
   "execution_count": 47,
   "id": "245ea262",
   "metadata": {},
   "outputs": [
    {
     "name": "stdout",
     "output_type": "stream",
     "text": [
      "A\n",
      "B\n",
      "Incomplete\n",
      "C\n",
      "D\n",
      "Loop is done\n"
     ]
    }
   ],
   "source": [
    "# Looping with continue\n",
    "\n",
    "answers = [\"A\", \"B\", \"\", \"C\", \"D\"]\n",
    "for answer in answers:\n",
    "    if answer ==\"\":\n",
    "        print(\"Incomplete\")\n",
    "        continue\n",
    "    print(answer)\n",
    "print(\"Loop is done\")"
   ]
  },
  {
   "cell_type": "code",
   "execution_count": 48,
   "id": "8021b570",
   "metadata": {},
   "outputs": [
    {
     "name": "stdout",
     "output_type": "stream",
     "text": [
      "First\n",
      "1\n",
      "2\n",
      "3\n",
      "Second\n",
      "1\n",
      "2\n",
      "3\n",
      "Third\n",
      "1\n",
      "2\n",
      "3\n",
      "Both loops are done\n"
     ]
    }
   ],
   "source": [
    "# Nesting loop\n",
    "\n",
    "# Outer loop\n",
    "for outer in [\"First\", \"Second\", \"Third\"]:\n",
    "    print(outer)\n",
    "    # Inner Loop\n",
    "    for inner in range (3):\n",
    "        print(inner + 1)\n",
    "print(\"Both loops are done\")\n",
    "# Out of both loops here"
   ]
  },
  {
   "cell_type": "code",
   "execution_count": null,
   "id": "d8c13986",
   "metadata": {},
   "outputs": [],
   "source": [
    "# Looping with while\n",
    "\n",
    "# while condition:\n",
    "#     do this ..\n",
    "#     do this ..\n",
    "# do this when the loop is done\n",
    "\n",
    "counter = 65\n",
    "while counter < 91:\n",
    "    print(str(counter) + \"=\" + chr(counter))\n",
    "    counter += 1\n",
    "    \n",
    "print(\"All done\")"
   ]
  },
  {
   "cell_type": "code",
   "execution_count": null,
   "id": "f0d0f6c9",
   "metadata": {},
   "outputs": [],
   "source": [
    "# String while loop over with continue\n",
    "\n",
    "import random\n",
    "print(\"Odd numbers\")\n",
    "counter = 0\n",
    "while counter < 10:\n",
    "    # Get a random number\n",
    "    number = random.randint(1, 999)\n",
    "    if int(number/2) == number /2:\n",
    "        # If it is an even number, don't print it.\n",
    "        continue\n",
    "    # Otherwise, if it's odd, print it and increment the counter.\n",
    "    print(number)\n",
    "    # Increment the loop counter.\n",
    "    counter += 1\n",
    "print(\"Loop is Done\")"
   ]
  },
  {
   "cell_type": "code",
   "execution_count": 4,
   "id": "3efafeb1",
   "metadata": {},
   "outputs": [
    {
     "name": "stdout",
     "output_type": "stream",
     "text": [
      "Number that are't evenly division by 5\n",
      "1461\n",
      "419\n",
      "Loop is Done\n"
     ]
    }
   ],
   "source": [
    "# Breaking while loops with break\n",
    "# while condition1:\n",
    "#     do this\n",
    "#     .....\n",
    "#     if condition2:\n",
    "#         break\n",
    "# do this when the loop is done\n",
    "\n",
    "import random\n",
    "print(\"Number that are't evenly division by 5\")\n",
    "counter = 0\n",
    "while counter < 10:\n",
    "    # Get a random number\n",
    "    number = random.randint(1, 1999)\n",
    "    if int(number / 5) == number / 5:\n",
    "        # if it's evenly divisible by 5, bail out.\n",
    "        break\n",
    "    # Otherwise, pront it and keep going for a while.\n",
    "    print(number)\n",
    "    # Increment the loop counter.\n",
    "    counter += 1\n",
    "print(\"Loop is Done\")\n"
   ]
  }
 ],
 "metadata": {
  "kernelspec": {
   "display_name": "Python 3",
   "language": "python",
   "name": "python3"
  },
  "language_info": {
   "codemirror_mode": {
    "name": "ipython",
    "version": 3
   },
   "file_extension": ".py",
   "mimetype": "text/x-python",
   "name": "python",
   "nbconvert_exporter": "python",
   "pygments_lexer": "ipython3",
   "version": "3.8.8"
  }
 },
 "nbformat": 4,
 "nbformat_minor": 5
}
