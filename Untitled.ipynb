{
 "cells": [
  {
   "cell_type": "code",
   "execution_count": null,
   "id": "7a0f9237",
   "metadata": {},
   "outputs": [],
   "source": [
    "\"\"\"\n",
    "Program: investment.py\n",
    "Author: Ken\n",
    "Compute an investment report.\n",
    "1. The inputs are\n",
    "starting investment amount\n",
    "number of years\n",
    "interest rate (an integer percent)\n",
    "2. The report is displayed in tabular form with a header.\n",
    "3. Computations and outputs:\n",
    "for each year\n",
    "compute the interest and add it to the investment\n",
    "print a formatted row of results for that year\n",
    "4. The ending investment and interest earned are also\n",
    "displayed.\n",
    "\"\"\"\n",
    "\n",
    "# Accept the inputs\n",
    "startBalance = float(input(\"Enter the investment amount: \"))\n",
    "years = int(input(\"Enter the number of years: \"))\n",
    "rate = int(input(\"Enter the rate as a %: \"))\n",
    "\n",
    "# Convert the rate to a decimal number\n",
    "rate = rate / 100\n",
    "\n",
    "# Initialize the accumulator for the interest\n",
    "totalInterest = 0.0\n",
    "\n",
    "# Display the header for the table\n",
    "print(\"%4s%18s%10s%16s\" % \\\n",
    "(\"Year\", \"Starting balance\",\n",
    "\"Interest\", \"Ending balance\"))\n",
    "\n",
    "# Compute and display the results for each year\n",
    "for year in range(1, years + 1):\n",
    "    interest = startBalance * rate\n",
    "    endBalance = startBalance + interest\n",
    "    print(\"%4d%18.2f%10.2f%16.2f\" % \\\n",
    "    (year, startBalance, interest, endBalance))\n",
    "    startBalance = endBalance\n",
    "    totalInterest += interest\n",
    "    \n",
    "# Display the totals for the period\n",
    "print(\"Ending balance: $%0.2f\" % endBalance)\n",
    "print(\"Total interest earned: $%0.2f\" % totalInterest)"
   ]
  },
  {
   "cell_type": "code",
   "execution_count": 7,
   "id": "7755bf6e",
   "metadata": {},
   "outputs": [
    {
     "name": "stdout",
     "output_type": "stream",
     "text": [
      "  3.120\n",
      "Your salary is $24.32\n",
      "24.325000\n"
     ]
    }
   ],
   "source": [
    "print(\"%7.3f\" % 3.12)\n",
    "print(\"Your salary is $%0.2f\" % 24.325)\n",
    "print(\"%7f\" % 24.325)"
   ]
  },
  {
   "cell_type": "code",
   "execution_count": null,
   "id": "0d09f69f",
   "metadata": {},
   "outputs": [],
   "source": []
  }
 ],
 "metadata": {
  "kernelspec": {
   "display_name": "Python 3",
   "language": "python",
   "name": "python3"
  },
  "language_info": {
   "codemirror_mode": {
    "name": "ipython",
    "version": 3
   },
   "file_extension": ".py",
   "mimetype": "text/x-python",
   "name": "python",
   "nbconvert_exporter": "python",
   "pygments_lexer": "ipython3",
   "version": "3.8.8"
  }
 },
 "nbformat": 4,
 "nbformat_minor": 5
}
