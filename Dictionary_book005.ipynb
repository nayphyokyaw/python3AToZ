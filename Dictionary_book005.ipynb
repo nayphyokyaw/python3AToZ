{
 "cells": [
  {
   "cell_type": "code",
   "execution_count": null,
   "id": "683f7a1b",
   "metadata": {},
   "outputs": [],
   "source": [
    "# Data Dictionaries\n",
    "\n",
    "    Key             value\n",
    "\"htanaka\"     =  \"Haru Tanaka\"\n",
    "\"PPatel\"      =  \"Pyiya patal\"\n",
    "\"Zmin\"        =  \"Zhang Min\"\n",
    "\"hakackson\"   =  \"Hanna Jackson\"\n",
    "\"Herry\"       =  \"Herry Potter\"\n",
    "\"Peter\"       =  \"Peter Jeson\"\n",
    "\n",
    "  Key             value\n",
    "\"htanaka\"     =  [\"Haru Tanaka\", 2000, 0, True]\n",
    "\"PPatel\"      =  [\"Pyiya patal\", 2015, 1, False]\n",
    "\"Zmin\"        =  [\"Zhang Min\", 2017, 2, False]\n",
    "\"hakackson\"   =  [\"Hanna Jackson\", 2001, 11, True]\n",
    "\"Herry\"       =  [\"Herry Potter\", 2011, 2, True]\n",
    "\"Peter\"       =  [\"Peter Jeson\", 2018, 22, False]\n",
    "\n"
   ]
  },
  {
   "cell_type": "code",
   "execution_count": 3,
   "id": "5c92c936",
   "metadata": {},
   "outputs": [
    {
     "name": "stdout",
     "output_type": "stream",
     "text": [
      "{'htanaka': 'Haru Tanaka', 'PPatel': 'Pyiya patal', 'Zmin': 'Zhang Min', 'hakackson': 'Hanna Jackson', 'Herry': 'Herry Potter', 'Peter': 'Peter Jeson'}\n",
      "\n",
      "Zhang Min\n"
     ]
    }
   ],
   "source": [
    "#Creating a Data Dictionary\n",
    "\n",
    "# name = {key:value, key:value, key:value, key:value, ...}\n",
    "\n",
    "# name = {\n",
    "#     key:value,\n",
    "#     key:value,\n",
    "#     key:value,\n",
    "#     key:value,\n",
    "#     ....\n",
    "# }\n",
    "\n",
    "people ={\n",
    "    \"htanaka\": \"Haru Tanaka\",\n",
    "    \"PPatel\": \"Pyiya patal\",\n",
    "    \"Zmin\": \"Zhang Min\",\n",
    "    \"hakackson\": \"Hanna Jackson\",\n",
    "    \"Herry\": \"Herry Potter\",\n",
    "    \"Peter\": \"Peter Jeson\"\n",
    "}\n",
    "\n",
    "print(people)\n",
    "print()\n",
    "print(people[\"Zmin\"])"
   ]
  },
  {
   "cell_type": "code",
   "execution_count": 4,
   "id": "4e979f49",
   "metadata": {},
   "outputs": [
    {
     "name": "stdout",
     "output_type": "stream",
     "text": [
      "6\n"
     ]
    }
   ],
   "source": [
    "# Getting the length of a dictionary\n",
    "\n",
    "people ={\n",
    "    \"htanaka\": \"Haru Tanaka\",\n",
    "    \"PPatel\": \"Pyiya patal\",\n",
    "    \"Zmin\": \"Zhang Min\",\n",
    "    \"hakackson\": \"Hanna Jackson\",\n",
    "    \"Herry\": \"Herry Potter\",\n",
    "    \"Peter\": \"Peter Jeson\"\n",
    "}\n",
    "\n",
    "# Count the number of key:value pairs and put in a variable.\n",
    "howMany = len(people)\n",
    "\n",
    "print(howMany)"
   ]
  },
  {
   "cell_type": "code",
   "execution_count": 6,
   "id": "c95c5187",
   "metadata": {},
   "outputs": [
    {
     "name": "stdout",
     "output_type": "stream",
     "text": [
      "True\n",
      "False\n"
     ]
    }
   ],
   "source": [
    "# Seeing whether a key exists in a dictionary\n",
    "\n",
    "people ={\n",
    "    \"htanaka\": \"Haru Tanaka\",\n",
    "    \"PPatel\": \"Pyiya patal\",\n",
    "    \"Zmin\": \"Zhang Min\",\n",
    "    \"hakackson\": \"Hanna Jackson\",\n",
    "    \"Herry\": \"Herry Potter\",\n",
    "    \"Peter\": \"Peter Jeson\"\n",
    "}\n",
    "\n",
    "# Is there hakackson in the people dictionary?\n",
    "print(\"hakackson\" in people)\n",
    "\n",
    "# Is there a schmeedorp in the people dictionary?\n",
    "print(\"schmeedorp\" in people)"
   ]
  },
  {
   "cell_type": "code",
   "execution_count": 7,
   "id": "8f3d9075",
   "metadata": {},
   "outputs": [
    {
     "name": "stdout",
     "output_type": "stream",
     "text": [
      "None\n"
     ]
    }
   ],
   "source": [
    "# Getting dictionary data with get()\n",
    "\n",
    "people ={\n",
    "    \"htanaka\": \"Haru Tanaka\",\n",
    "    \"PPatel\": \"Pyiya patal\",\n",
    "    \"Zmin\": \"Zhang Min\",\n",
    "    \"hakackson\": \"Hanna Jackson\",\n",
    "    \"Herry\": \"Herry Potter\",\n",
    "    \"Peter\": \"Peter Jeson\"\n",
    "}\n",
    "\n",
    "# look for person\n",
    "person = \"schmeedledrop\"\n",
    "print(people.get(person))\n"
   ]
  },
  {
   "cell_type": "code",
   "execution_count": 10,
   "id": "fa2117a4",
   "metadata": {},
   "outputs": [
    {
     "name": "stdout",
     "output_type": "stream",
     "text": [
      "Hanna Jackson\n",
      "Hanna Jackson-Smith\n"
     ]
    }
   ],
   "source": [
    "# CHanging the value of a key\n",
    "people ={\n",
    "    \"htanaka\": \"Haru Tanaka\",\n",
    "    \"PPatel\": \"Pyiya patal\",\n",
    "    \"Zmin\": \"Zhang Min\",\n",
    "    \"hajackson\": \"Hanna Jackson\",\n",
    "    \"Herry\": \"Herry Potter\",\n",
    "    \"Peter\": \"Peter Jeson\"\n",
    "}\n",
    "\n",
    "# print hajakson's current value.\n",
    "print(people[\"hajackson\"])\n",
    "\n",
    "# Change the value of the hajackson key.\n",
    "people[\"hajackson\"] = \"Hanna Jackson-Smith\"\n",
    "\n",
    "# print the hajackson key to verify that the value has changed.\n",
    "print(people[\"hajackson\"])"
   ]
  },
  {
   "cell_type": "code",
   "execution_count": 26,
   "id": "601ea04b",
   "metadata": {},
   "outputs": [
    {
     "name": "stdout",
     "output_type": "stream",
     "text": [
      "{'hrjackson': 'Henrietta jackson', 'Herry': 'Herry Potter', 'Peter': 'Peter Jeson'} \n",
      "\n",
      "hrjackson = Henrietta jackson\n",
      "Herry = Herry Potter\n",
      "Peter = Peter Jeson\n",
      "willy = Willy Smith\n"
     ]
    }
   ],
   "source": [
    "# Adding or changing dictionar data\n",
    "\n",
    "people ={\n",
    "    \"hrjackson\": \"Hanna Jackson\",\n",
    "    \"Herry\": \"Herry Potter\",\n",
    "    \"Peter\": \"Peter Jeson\"\n",
    "}\n",
    "\n",
    "# change the value of the harjackson key.\n",
    "people.update({\"hrjackson\" : \"Henrietta jackson\"})\n",
    "print(people, '\\n')\n",
    "\n",
    "# Update the dictionary with a new key:value pair\n",
    "people.update({\"willy\" : \"Willy Smith\"})\n",
    "\n",
    "# show what's in the data dictionary now.\n",
    "for person in people.keys():\n",
    "    print(person + \" = \" + people[person])"
   ]
  },
  {
   "cell_type": "code",
   "execution_count": 27,
   "id": "63c71cd3",
   "metadata": {},
   "outputs": [
    {
     "name": "stdout",
     "output_type": "stream",
     "text": [
      "htanaka  =  Haru Tanaka\n",
      "PPatel  =  Pyiya patal\n",
      "Zmin  =  Zhang Min\n",
      "hakackson  =  Hanna Jackson\n",
      "Herry  =  Herry Potter\n",
      "Peter  =  Peter Jeson\n"
     ]
    }
   ],
   "source": [
    "#looping through a Dictionary\n",
    "\n",
    "people ={\n",
    "    \"htanaka\": \"Haru Tanaka\",\n",
    "    \"PPatel\": \"Pyiya patal\",\n",
    "    \"Zmin\": \"Zhang Min\",\n",
    "    \"hakackson\": \"Hanna Jackson\",\n",
    "    \"Herry\": \"Herry Potter\",\n",
    "    \"Peter\": \"Peter Jeson\"\n",
    "}\n",
    "\n",
    "# look throuth .items to get the key and the value.\n",
    "\n",
    "for key, value in people.items():\n",
    "    # Show the key and value with = in between.\n",
    "    print(key, ' = ', value)"
   ]
  },
  {
   "cell_type": "code",
   "execution_count": 47,
   "id": "ef3d94a4",
   "metadata": {},
   "outputs": [
    {
     "name": "stdout",
     "output_type": "stream",
     "text": [
      "{'htanaka': 'Haru Tanaka', 'PPatel': 'Pyiya patal', 'Zmin': 'Zhang Min'}\n",
      "{'htanaka': 'Haru Tanaka', 'PPatel': 'Pyiya patal', 'Zmin': 'Zhang Min'}\n",
      "When i delete Zmin on peeps2 show bellow {'htanaka': 'Haru Tanaka', 'PPatel': 'Pyiya patal'}\n",
      "When i Use clear() method on peeps2 Dicts: {}\n",
      "When I use pop() method use clear but store in adios variable: Zhang Min\n",
      "When i use pop() method on people Dicts: {'htanaka': 'Haru Tanaka', 'PPatel': 'Pyiya patal'}\n"
     ]
    }
   ],
   "source": [
    "# Dictionary method\n",
    "\n",
    "# Copying a Dictionary\n",
    "people ={\n",
    "    \"htanaka\": \"Haru Tanaka\",\n",
    "    \"PPatel\": \"Pyiya patal\",\n",
    "    \"Zmin\": \"Zhang Min\",\n",
    "}\n",
    "\n",
    "# make a copy of the people dictionar and put it in peeps 2.\n",
    "peeps2 = people.copy()\n",
    "\n",
    "# show what's in both dictionaries\n",
    "print(people)\n",
    "print(peeps2)\n",
    "\n",
    "#Deleting Dictionary Items\n",
    "del peeps2[\"Zmin\"]\n",
    "print(f\"When i delete Zmin on peeps2 show bellow {peeps2}\")\n",
    "\n",
    "# remove all data from peeps2 dictionary\n",
    "peeps2.clear()\n",
    "print(f\"When i Use clear() method on peeps2 Dicts: {peeps2}\")\n",
    "\n",
    "# pop() zmin from the dictionary, store its value in adios variable.\n",
    "adios = people.pop(\"Zmin\")\n",
    "print(f\"When I use pop() method use clear but store in adios variable: {adios}\")\n",
    "print(f\"When i use pop() method on people Dicts: {people}\")\n"
   ]
  },
  {
   "cell_type": "code",
   "execution_count": 52,
   "id": "17b49c38",
   "metadata": {},
   "outputs": [
    {
     "name": "stdout",
     "output_type": "stream",
     "text": [
      "Name:     Ray-Ban Wayfarer Sunglesses\n",
      "Price     $112.99\n",
      "Taxable   True\n",
      "In Stock  10\n",
      "Models:\n",
      "          Black\n",
      "          Tortoise\n"
     ]
    }
   ],
   "source": [
    "# Having Fun with Multi-key Dictionary\n",
    "\n",
    "employee = {\n",
    "    'name': 'Kyaw sithu',\n",
    "    'year_hired': 2005,\n",
    "    'dob': 11/23/1987,\n",
    "    'has_laptop': False\n",
    "}\n",
    "\n",
    "product = {\n",
    "    'name': 'Ray-Ban Wayfarer Sunglesses',\n",
    "    'unit_price': 112.99,\n",
    "    'taxable': True,\n",
    "    'in_stock': 10,\n",
    "    'models': ['Black', 'Tortoise']\n",
    "}\n",
    "\n",
    "print('Name:    ', product['name'])\n",
    "print('Price    ', f\"${product['unit_price']:.2f}\")\n",
    "print('Taxable  ', product['taxable'])\n",
    "print('In Stock ', product['in_stock'])\n",
    "print('Models:')\n",
    "for models in product['models']:\n",
    "    print(\" \" * 10 + models)\n",
    "    \n",
    "# Note: the \" \" * 10 means print a space(\" \") ten times.(indent ten spaces)\n"
   ]
  },
  {
   "cell_type": "code",
   "execution_count": 75,
   "id": "7b64c962",
   "metadata": {},
   "outputs": [
    {
     "name": "stdout",
     "output_type": "stream",
     "text": [
      "Dictionary after formkey() and setdefault()\n",
      "{'name': None, 'unit_price': None, 'taxable': None, 'in_stock': None, 'models': None, 'reorder_point': 100}\n",
      "\n",
      "Dictionary after fromkeys() and setdefault()\n",
      "{'name': None, 'unit_price': None, 'taxable': True, 'in_stock': None, 'models': None, 'reorder_point': 100}\n"
     ]
    }
   ],
   "source": [
    "# Dictionary formkey and setdefault method\n",
    "\n",
    "# Create a generic dictionary for products name product.\n",
    "product = {\n",
    "    'name': '',\n",
    "    'unit_price': 0,\n",
    "    'taxable': True,\n",
    "    'in_stock': 0,\n",
    "    'models': []\n",
    "}\n",
    "\n",
    "# Create a dictionary for product SKU # DWC001\n",
    "DWC001 = dict.fromkeys(product.keys())\n",
    "DWC001.setdefault('taxable', True)\n",
    "DWC001.setdefault('models',[])\n",
    "DWC001.setdefault('reorder_point', 100)\n",
    "\n",
    "# Show what's in the new dictionary\n",
    "print('Dictionary after formkey() and setdefault()')\n",
    "print(DWC001)\n",
    "\n",
    "# change the taxable field from None to True\n",
    "print(\"\\nDictionary after fromkeys() and setdefault()\")\n",
    "DWC001['taxable'] = True\n",
    "print(DWC001)"
   ]
  },
  {
   "cell_type": "code",
   "execution_count": 3,
   "id": "2d23072f",
   "metadata": {},
   "outputs": [
    {
     "name": "stdout",
     "output_type": "stream",
     "text": [
      "ID           Name                  Price             models\n",
      "----------------------------------------------------------------------\n",
      "DB00111      Ray-Ban Sunglesses    $ 112.99          black, tortorise\n",
      "DW00231      Drone with camera     $  89.99          white, brown\n",
      "EC02332      Echo Dot              $   3.55          <none>\n",
      "MT00993      T-Shirt               $  88.33          small, medium, large\n"
     ]
    }
   ],
   "source": [
    "# Nesting dictionaries\n",
    "\n",
    "#Creating a generic products dictionary to contain multiple product dictionaries.\n",
    "\n",
    "\"\"\"\n",
    " ID(Key)  |     Name             |     Price        |      models\n",
    " ...........................................................................\n",
    " DB00111  | Ray-Ban Sunglesses   |   112.99         |  black, tortorise    |\n",
    " DW00231  | Drone with camera    |   89.99          |  white, brown        |\n",
    " EC02332  | Echo Dot             |   3.55           |                      |\n",
    " MT00993  | T-Shirt              |   88.33          |  small, medium, large|\n",
    "............................................................................\n",
    "\"\"\"\n",
    "\n",
    "products = {\n",
    "    'DB00111': {'name': 'Ray-Ban Sunglesses', 'price': 112.99, 'models': ['black', 'tortorise']},\n",
    "    'DW00231': {'name': 'Drone with camera', 'price': 89.99, 'models': ['white', 'brown']},\n",
    "    'EC02332': {'name': 'Echo Dot', 'price': 3.55, 'models': []},\n",
    "    'MT00993': {'name': 'T-Shirt', 'price': 88.33, 'models': ['small', 'medium', 'large']}\n",
    "}\n",
    "# This header shows abve the output:\n",
    "print(f\"{'ID' :<10}   {'Name':<18}    {'Price':<14}    {'models'}\")\n",
    "print('-'*70) # prints 60 hyphens.\n",
    "\n",
    "# Loop through each dictionary in the products dictionar\n",
    "for oneproduct in products.keys():\n",
    "    # Get the id of one product.\n",
    "    id = oneproduct\n",
    "    # Get the name of one product.\n",
    "    name = products[oneproduct]['name']\n",
    "    # Get unit price of one product and format with $\n",
    "    unit_price = '$' + f\"{products[oneproduct]['price']:>7,.2f}\"\n",
    "    # Create and empty string variable named models\n",
    "    models = ''\n",
    "    # Loop through the models list nad tack onto models\n",
    "    # One item from the list followed by a comma and a space\n",
    "    for m in products[oneproduct]['models']:\n",
    "        models += m + ', '\n",
    "    # If the models variable is more than two character in length,\n",
    "    # peel off the last two characters (last comma and space).\n",
    "    if len(models) >2:\n",
    "        models = models[:-2]\n",
    "    else:\n",
    "        # Otherwise, if no models, show <none>.\n",
    "        models = \"<none>\"\n",
    "    # print all the variabls with a neat f-string.\n",
    "    print(f\"{id :<11}  {name:<20}  {unit_price:<16}  {models}\")"
   ]
  },
  {
   "cell_type": "code",
   "execution_count": null,
   "id": "f4599ed9",
   "metadata": {},
   "outputs": [],
   "source": []
  }
 ],
 "metadata": {
  "kernelspec": {
   "display_name": "Python 3",
   "language": "python",
   "name": "python3"
  },
  "language_info": {
   "codemirror_mode": {
    "name": "ipython",
    "version": 3
   },
   "file_extension": ".py",
   "mimetype": "text/x-python",
   "name": "python",
   "nbconvert_exporter": "python",
   "pygments_lexer": "ipython3",
   "version": "3.8.8"
  }
 },
 "nbformat": 4,
 "nbformat_minor": 5
}
