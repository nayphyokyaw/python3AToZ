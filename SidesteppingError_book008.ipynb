{
 "cells": [
  {
   "cell_type": "code",
   "execution_count": 3,
   "id": "4baa08cd",
   "metadata": {},
   "outputs": [
    {
     "name": "stdout",
     "output_type": "stream",
     "text": [
      "Sorry!, I don't see a file named people.cvs here\n"
     ]
    }
   ],
   "source": [
    "# Understanding Exceptions\n",
    "# Code with try exprection handlers, and else for when there are no expressions\n",
    "\n",
    "try:\n",
    "    # Open the file named people.csv\n",
    "    theFile = open('people.cvs')\n",
    "# watch for comm error and stop program if it happens.\n",
    "except FileNotFoundError:\n",
    "    print(\"Sorry!, I don't see a file named people.cvs here\")\n",
    "# Catch any unexpected error and stop program if one happens.\n",
    "except Exception as err:\n",
    "    print(err)\n",
    "# Otherwise, if nothing bad has happende by now, just keep going.\n",
    "else:\n",
    "    # File musb be open by now if we got here.\n",
    "    print('\\n') # print a blank line.\n",
    "    #print each line from the file.\n",
    "    for one_line in theFile:\n",
    "        print(one_line)\n",
    "    theFile.close()\n",
    "    print('success!')\n"
   ]
  },
  {
   "cell_type": "code",
   "execution_count": 7,
   "id": "fcbfce96",
   "metadata": {},
   "outputs": [
    {
     "name": "stdout",
     "output_type": "stream",
     "text": [
      "Do this first\n",
      "Can't fine named people.cvs\n",
      "This is in the finally block\n",
      "This is outside the try.. except.. else.. finally\n"
     ]
    }
   ],
   "source": [
    "# Using try -- except -- else -- finally\n",
    "\n",
    "# try:\n",
    "#     try to do this\n",
    "# except:\n",
    "#     if x happens, stop here\n",
    "# except Exception as e:\n",
    "#     if something else and happens, stop here\n",
    "# else:\n",
    "#     if no exceptions, continue on normally here\n",
    "# finally:\n",
    "#     do this code no matter what happen above\n",
    "\n",
    "\n",
    "print('Do this first')\n",
    "try:\n",
    "    open('people.cvs')\n",
    "except FileNotFoundError:\n",
    "    print(\"Can't fine named people.cvs\")\n",
    "except Exception as e:\n",
    "    print(e)\n",
    "else:\n",
    "    print('Show this if there is no expection')\n",
    "finally:\n",
    "    print('This is in the finally block')\n",
    "print(\"This is outside the try.. except.. else.. finally\")"
   ]
  },
  {
   "cell_type": "code",
   "execution_count": 8,
   "id": "a9b1c1af",
   "metadata": {},
   "outputs": [
    {
     "name": "stdout",
     "output_type": "stream",
     "text": [
      "\n",
      "\n",
      "Failed: The error was [Errno 2] No such file or directory: 'people.cvs'\n"
     ]
    },
    {
     "ename": "NameError",
     "evalue": "name 'theFile' is not defined",
     "output_type": "error",
     "traceback": [
      "\u001b[1;31m---------------------------------------------------------------------------\u001b[0m",
      "\u001b[1;31mFileNotFoundError\u001b[0m                         Traceback (most recent call last)",
      "\u001b[1;32m<ipython-input-8-3007af39cc0e>\u001b[0m in \u001b[0;36m<module>\u001b[1;34m\u001b[0m\n\u001b[0;32m     13\u001b[0m     \u001b[1;31m# Open the file (no error check for this example).\u001b[0m\u001b[1;33m\u001b[0m\u001b[1;33m\u001b[0m\u001b[1;33m\u001b[0m\u001b[0m\n\u001b[1;32m---> 14\u001b[1;33m     \u001b[0mtheFile\u001b[0m \u001b[1;33m=\u001b[0m \u001b[0mopen\u001b[0m\u001b[1;33m(\u001b[0m\u001b[1;34m'people.cvs'\u001b[0m\u001b[1;33m)\u001b[0m\u001b[1;33m\u001b[0m\u001b[1;33m\u001b[0m\u001b[0m\n\u001b[0m\u001b[0;32m     15\u001b[0m     \u001b[1;31m# Count the number of lines in file.\u001b[0m\u001b[1;33m\u001b[0m\u001b[1;33m\u001b[0m\u001b[1;33m\u001b[0m\u001b[0m\n",
      "\u001b[1;31mFileNotFoundError\u001b[0m: [Errno 2] No such file or directory: 'people.cvs'",
      "\nDuring handling of the above exception, another exception occurred:\n",
      "\u001b[1;31mNameError\u001b[0m                                 Traceback (most recent call last)",
      "\u001b[1;32m<ipython-input-8-3007af39cc0e>\u001b[0m in \u001b[0;36m<module>\u001b[1;34m\u001b[0m\n\u001b[0;32m     23\u001b[0m     \u001b[0mprint\u001b[0m\u001b[1;33m(\u001b[0m\u001b[1;34m\"\\n\\nFailed: The error was \"\u001b[0m \u001b[1;33m+\u001b[0m \u001b[0mstr\u001b[0m\u001b[1;33m(\u001b[0m\u001b[0me\u001b[0m\u001b[1;33m)\u001b[0m\u001b[1;33m)\u001b[0m\u001b[1;33m\u001b[0m\u001b[1;33m\u001b[0m\u001b[0m\n\u001b[0;32m     24\u001b[0m     \u001b[1;31m# Close the file.\u001b[0m\u001b[1;33m\u001b[0m\u001b[1;33m\u001b[0m\u001b[1;33m\u001b[0m\u001b[0m\n\u001b[1;32m---> 25\u001b[1;33m     \u001b[0mtheFile\u001b[0m\u001b[1;33m.\u001b[0m\u001b[0mclose\u001b[0m\u001b[1;33m(\u001b[0m\u001b[1;33m)\u001b[0m\u001b[1;33m\u001b[0m\u001b[1;33m\u001b[0m\u001b[0m\n\u001b[0m\u001b[0;32m     26\u001b[0m \u001b[1;32melse\u001b[0m\u001b[1;33m:\u001b[0m\u001b[1;33m\u001b[0m\u001b[1;33m\u001b[0m\u001b[0m\n\u001b[0;32m     27\u001b[0m     \u001b[1;31m# This code runs only if no exception above.\u001b[0m\u001b[1;33m\u001b[0m\u001b[1;33m\u001b[0m\u001b[1;33m\u001b[0m\u001b[0m\n",
      "\u001b[1;31mNameError\u001b[0m: name 'theFile' is not defined"
     ]
    }
   ],
   "source": [
    "# Custom EmptyFileError exception added for exception handling\n",
    "\n",
    "# Base class for defining your own user-defined exceptions.\n",
    "class Error(Exception):\n",
    "    \"\"\" Base class for other exceptions \"\"\"\n",
    "    pass\n",
    "\n",
    "# Now define your exception as a subclass of Error.\n",
    "class EmptyFileError(Error):\n",
    "    pass\n",
    "\n",
    "try:\n",
    "    # Open the file (no error check for this example).\n",
    "    theFile = open('people.cvs')\n",
    "    # Count the number of lines in file.\n",
    "    line_count = len(theFile.readlines())\n",
    "    # If there are fewer than 2 lines, raise exception.\n",
    "    if line_count < 2:\n",
    "        raise EmptyFileError\n",
    "\n",
    "# Handles missing file error.\n",
    "except Exception as e:\n",
    "    print(\"\\n\\nFailed: The error was \" + str(e))\n",
    "    # Close the file.\n",
    "    theFile.close()\n",
    "else:\n",
    "    # This code runs only if no exception above.\n",
    "    print('\\n') # print blank line\n",
    "    \n",
    "    \n",
    "    # File must be open by now if we got here, show content.\n",
    "    for one_line in theFile:\n",
    "        print(one_line)\n",
    "    theFile.close()\n",
    "    print(\"Success!\")\n",
    "\n"
   ]
  },
  {
   "cell_type": "code",
   "execution_count": null,
   "id": "978140a5",
   "metadata": {},
   "outputs": [],
   "source": []
  }
 ],
 "metadata": {
  "kernelspec": {
   "display_name": "Python 3",
   "language": "python",
   "name": "python3"
  },
  "language_info": {
   "codemirror_mode": {
    "name": "ipython",
    "version": 3
   },
   "file_extension": ".py",
   "mimetype": "text/x-python",
   "name": "python",
   "nbconvert_exporter": "python",
   "pygments_lexer": "ipython3",
   "version": "3.8.8"
  }
 },
 "nbformat": 4,
 "nbformat_minor": 5
}
