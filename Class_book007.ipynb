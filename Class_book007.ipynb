{
 "cells": [
  {
   "cell_type": "code",
   "execution_count": null,
   "id": "bbd85980",
   "metadata": {},
   "outputs": [],
   "source": [
    "# Object-oriented programming language (OOP)\n",
    "\"\"\"\n",
    "Class: as a blue print or factory form which you can create individual objects\n",
    "Instance: Each instance of a class is also called an object just like all different cars are objects,\n",
    "          all created by some car factory(class).\n",
    "Attribute: that contains information about the object also called property of the object.attribute name\n",
    "           is proceed by a dot, sa in member.username (contain username for one site member.)\n",
    "Method:  A method defines an action that an object can perform. Eg.. member.archive() might be a method that\n",
    "         archives(deactivates) the member's account.\n",
    "           \n",
    "\"\"\""
   ]
  },
  {
   "cell_type": "code",
   "execution_count": null,
   "id": "fb93bb08",
   "metadata": {},
   "outputs": [],
   "source": [
    "# Creating class\n",
    "\n",
    "# define a new class name Member.\n",
    "class Member:\n",
    "    \"\"\" Create a new member. \"\"\"\n",
    "    \n",
    "# Empty class\n",
    "\n",
    "# define a new class name Member.\n",
    "class Member:\n",
    "    class Member:\n",
    "        pass"
   ]
  },
  {
   "cell_type": "code",
   "execution_count": 2,
   "id": "5a60a2a5",
   "metadata": {},
   "outputs": [
    {
     "name": "stdout",
     "output_type": "stream",
     "text": [
      "<__main__.Member object at 0x000002183B830A60>\n",
      "Rambo\n",
      "Rocco Moe\n",
      "<class '__main__.Member'>\n",
      "Princess\n",
      "Rocco Moe\n"
     ]
    }
   ],
   "source": [
    "# Creating an Instance from a class\n",
    "\n",
    "# Class grant to create instances(objects) you give the class an init method.\n",
    "# __init__  is short for initialize. Sometimes spoken as \"dunder init\"\n",
    "# syntax for creating and init method\n",
    "# def __init__ (self, suppliedprop1, suppliedprop2, ....)\n",
    "\n",
    "# Define a class named Member for making member objects.\n",
    "\n",
    "class Member:\n",
    "    \"\"\"Create a member from uname and fname\"\"\"\n",
    "    def __init__(self, uname, fname):\n",
    "\n",
    "# Giving an object Its Attributes\n",
    "\n",
    "# self.username = username\n",
    "# self.fullname = fname\n",
    "\n",
    "# Define attribute and give them values.\n",
    "        self.username = uname\n",
    "        self.fullname = fname\n",
    "        \n",
    "#Creating an instance from a class\n",
    " # this_instance_name = Member('uname', 'fname')\n",
    "\n",
    "new_guy = Member('Rambo', 'Rocco Moe')\n",
    "\n",
    "# See what's in the instance, as well as its individual properties.\n",
    "print(new_guy)\n",
    "print(new_guy.username)\n",
    "print(new_guy.fullname)\n",
    "print(type(new_guy))\n",
    "\n",
    "# Changing the value of an attribute\n",
    "\"\"\"\n",
    "objectname.attributename = value\n",
    "new_guy.username = \"Princess\"  \n",
    "\"\"\"\n",
    "# Changing new_guy's user name then print both attributes again.\n",
    "\n",
    "new_guy.username = \"Princess\"\n",
    "print(new_guy.username)\n",
    "print(new_guy.fullname)"
   ]
  },
  {
   "cell_type": "code",
   "execution_count": 10,
   "id": "25dd98e8",
   "metadata": {},
   "outputs": [
    {
     "name": "stdout",
     "output_type": "stream",
     "text": [
      "My name is Rambo, my full name is Rocco Moe\n",
      "My new username is ChitYinHtu\n"
     ]
    }
   ],
   "source": [
    "# Defining attributes with default values\n",
    "\n",
    "import datetime as dt\n",
    "\n",
    "# define a new class name Member.\n",
    "class Member:\n",
    "    \"\"\"Create a new member.\"\"\"\n",
    "    def __init__(self, username, fullname):\n",
    "        # define  attribute and give them values.\n",
    "        self.username = username\n",
    "        self.fullname = fullname\n",
    "        \n",
    "#         Default date_joined to today's date.\n",
    "        self.date_joined = dt.date.today()\n",
    "#         set is active to True initially\n",
    "        self.is_active = True\n",
    "new_guy = Member('Rambo', 'Rocco Moe')\n",
    "print(f\"My name is {new_guy.username}, my full name is {new_guy.fullname}\")\n",
    "new_guy.username = \"ChitYinHtu\"\n",
    "print(f\"My new username is {new_guy.username}\")"
   ]
  },
  {
   "cell_type": "code",
   "execution_count": 12,
   "id": "67ef1301",
   "metadata": {},
   "outputs": [
    {
     "name": "stdout",
     "output_type": "stream",
     "text": [
      "Silver Starlone joined on  08-25-21\n"
     ]
    }
   ],
   "source": [
    "# Giving Class Method\n",
    "# Changing the value of an object's attributes\n",
    "\n",
    "import datetime as dt\n",
    "\n",
    "# define a new class name Member.\n",
    "class Member:\n",
    "    \"\"\"Create a new member.\"\"\"\n",
    "    def __init__(self, username, fullname):\n",
    "        # define  attribute and give them values.\n",
    "        self.username = username\n",
    "        self.fullname = fullname\n",
    "        \n",
    "#         Default date_joined to today's date.\n",
    "        self.date_joined = dt.date.today()\n",
    "#         set is active to True initially\n",
    "        self.is_active = True\n",
    "    # A method to return a formatted string showing date joined\n",
    "    def show_datejoined(self):\n",
    "        return f\"{self.fullname} joined on {self.date_joined: %m-%d-%y}\"\n",
    "    \n",
    "    # Method to activate (True) or deactive (False) account.\n",
    "    def activate(self, yesno):\n",
    "        \"\"\" True for active, False for make inactive \"\"\"\n",
    "        self.is_active = yesno\n",
    "        \n",
    "# The class ends at the first unindented line.\n",
    "# Create an instance of the Member class named new_guy\n",
    "new_guy = Member('Rambo', 'Silver Starlone')\n",
    "\n",
    "# see what's in the instane, change is_active status.\n",
    "print(new_guy.show_datejoined())"
   ]
  },
  {
   "cell_type": "code",
   "execution_count": 13,
   "id": "7a72e96b",
   "metadata": {},
   "outputs": [
    {
     "name": "stdout",
     "output_type": "stream",
     "text": [
      "True\n",
      "False\n"
     ]
    }
   ],
   "source": [
    "#Adding and testing an .active() Method\n",
    "\n",
    "import datetime as dt\n",
    "\n",
    "# Define a new class named Member.\n",
    "class Member:\n",
    "    def __init__(self, username, fullname):\n",
    "        # Define attribute and given them value.\n",
    "        self.username = username\n",
    "        self.fullname = fullname\n",
    "        #Define date_joined to today's date.\n",
    "        self.date_joined = dt.date.today()\n",
    "        #Set is active to True initially.\n",
    "        self.is_active = True\n",
    "        \n",
    "        \n",
    "    # A method to return a formatted string showing date joined.\n",
    "    def show_datejoined(self):\n",
    "        return f\"[self.fullname] joined on {self.date_joined: %m-%d-%y}\"\n",
    "    \n",
    "    # Method to active (True) or deactive (false) account.\n",
    "    def active(self, yesno):\n",
    "        \"\"\" True for active, False to make inactive \"\"\"\n",
    "        self.is_active = yesno\n",
    "        \n",
    "# The class ends at the first unindented line\n",
    "\n",
    "# Create a instance of the Member class method new_guy\n",
    "new_guy = Member('Jame', 'Jame Boom')\n",
    "\n",
    "# Is the new guy active?\n",
    "print(new_guy.is_active)\n",
    "\n",
    "# Try out the active method.\n",
    "new_guy.active(False)\n",
    "\n",
    "# Is the new guy still active?\n",
    "print(new_guy.is_active)\n",
    "    "
   ]
  },
  {
   "cell_type": "code",
   "execution_count": 30,
   "id": "f5e20b49",
   "metadata": {},
   "outputs": [
    {
     "name": "stdout",
     "output_type": "stream",
     "text": [
      "2021-08-25\n",
      "2022-08-25\n",
      "Wilbur Blomgren start joined on: 2021-08-25\n",
      "Wilbur Blomgren expiration dated is:  2022-08-25\n"
     ]
    }
   ],
   "source": [
    "# The free_day variable is a class variable in the Member class\n",
    "\n",
    "import datetime as dt\n",
    "\n",
    "class Member:\n",
    "    free_days = 365\n",
    "    \n",
    "    \"\"\" Create a new member. \"\"\"\n",
    "    def __init__(self, username, fullname):\n",
    "        self.username = username\n",
    "        self.fullname = fullname\n",
    "        self.date_joined = dt.date.today()\n",
    "        # Set an expiration date\n",
    "        self.free_expires = dt.date.today() + dt.timedelta(days = member.free_days)\n",
    "    \n",
    "# The class ends at the first un-idented line.\n",
    "\n",
    "# Create an instance of the member class named new_guy.\n",
    "wilbur = Member('Wblomgren', 'Wilbur Blomgren')\n",
    "\n",
    "print(wilbur.date_joined)\n",
    "print(wilbur.free_expires)    \n",
    "\n",
    "print(f\"{wilbur.fullname} start joined on: {dt.date.today()}\")\n",
    "print(f\"{wilbur.fullname} expiration dated is:  {wilbur.free_expires}\")"
   ]
  },
  {
   "cell_type": "code",
   "execution_count": 33,
   "id": "0f00e364",
   "metadata": {},
   "outputs": [
    {
     "name": "stdout",
     "output_type": "stream",
     "text": [
      " 06:11:PM\n"
     ]
    }
   ],
   "source": [
    "# Using class method\n",
    "# The Member class now has a static method named currenttime()\n",
    "import datetime as dt\n",
    "\n",
    "# Define a class named Member for making member objects.\n",
    "class Member:\n",
    "    # This is a class variable that's the same for all instances.\n",
    "    free_days = 0\n",
    "    \n",
    "    \"\"\" Create a member object from username and fullname \"\"\"\n",
    "    def __init__(self, username, fullname):\n",
    "        self.dateJoined = dt.date.today()\n",
    "        self.freeExpires = dt.date.today() + dt.timedelta(Member.free_days)\n",
    "        \n",
    "    # class methods follow @classmethods and use cls rather than self.\n",
    "    @classmethod\n",
    "    def setfreedays(cls, days):\n",
    "        cla.free_days = days\n",
    "        \n",
    "    @staticmethod\n",
    "    def currenttime():\n",
    "        now = dt.datetime.now()\n",
    "        return f\"{now: %I:%M:%p}\"\n",
    "    \n",
    "    # Class defination ends at last indented line\n",
    "    \n",
    "    # Trt out the new static method (no object required)\n",
    "print(Member.currenttime())"
   ]
  },
  {
   "cell_type": "code",
   "execution_count": null,
   "id": "cd0a1d97",
   "metadata": {},
   "outputs": [],
   "source": [
    "# Underdtanding Class Inheritance\n",
    "\n",
    "# class parent() Create base(main) class\n",
    "\n",
    "# subclass child1 child2 child3 child4\n",
    "\n",
    "# objects                       browser fido wingnut"
   ]
  },
  {
   "cell_type": "code",
   "execution_count": 50,
   "id": "59eb3642",
   "metadata": {},
   "outputs": [
    {
     "name": "stdout",
     "output_type": "stream",
     "text": [
      "MY name is Abnybody, Current username is joe and expire date is 2022-08-25\n",
      "MY name is Angst, Current username is Annie and expire date is 2022-08-25\n",
      "MY name is Ungula, Current username is Uli and expire date is 2022-08-25\n",
      "Angst Annie 2022-08-25 PRESTO\n"
     ]
    }
   ],
   "source": [
    "# Create main calss \n",
    "\n",
    "import datetime as dt\n",
    "\n",
    "class Member:\n",
    "    free_days = 365\n",
    "    \n",
    "    \"\"\" Create a new member. \"\"\"\n",
    "    def __init__(self, username, fullname):\n",
    "        self.username = username\n",
    "        self.fullname = fullname\n",
    "        self.date_joined = dt.date.today()\n",
    "        # Set an expiration date\n",
    "        self.expire_date = dt.date.today() + dt.timedelta(days = Member.free_days)\n",
    "        \n",
    "joe = Member('joe', 'Abnybody')\n",
    "\n",
    "# Defined subclass\n",
    "# class subclassname(mainclassname)\n",
    "\n",
    "#subclass for admins.\n",
    "# Overriding a default value from a subclass\n",
    "class Admin(Member):\n",
    "    # Admin account don't expire for 100 years.\n",
    "    expiry_days = 365.2422 * 100\n",
    "    \n",
    "    # Adding extrea parameters from a subclass\n",
    "    def __init__(self, username, fullname, secretCode):\n",
    "    \n",
    "        # Pass Member parameters on up to Member class.\n",
    "        super().__init__(username, fullname)\n",
    "        # Assign the remaining parameter to this object.\n",
    "        self.secretCode = secretCode\n",
    "        \n",
    "#Subclass for users.\n",
    "class User(Member):\n",
    "    pass\n",
    "\n",
    "Ann = Admin('Annie', 'Angst', 'PRESTO')\n",
    "uli = User('Uli', 'Ungula')\n",
    "\n",
    "print(f\"MY name is {joe.fullname}, Current username is {joe.username} and expire date is {joe.expire_date}\")\n",
    "print(f\"MY name is {Ann.fullname}, Current username is {Ann.username} and expire date is {Ann.expire_date}\")\n",
    "print(f\"MY name is {uli.fullname}, Current username is {uli.username} and expire date is {uli.expire_date}\")\n",
    "\n",
    "print(Ann.fullname, Ann.username, Ann.expire_date, Ann.secretCode)\n",
    "\n"
   ]
  },
  {
   "cell_type": "code",
   "execution_count": 80,
   "id": "bc643a6a",
   "metadata": {},
   "outputs": [
    {
     "name": "stdout",
     "output_type": "stream",
     "text": [
      "Annie Angst is expire on 2022-08-25 and secretCode is: PETRO\n",
      "Uli Ungula is expire on 2022-08-25 and secretCode is: \n",
      "\n",
      "Annie Angst expires on 2022-08-25 code is PETRO\n",
      "Uli Ungula expires on 2022-08-25 code is \n"
     ]
    }
   ],
   "source": [
    "# The Complete Admin and User SUbclasses.\n",
    "\n",
    "import datetime as dt\n",
    "\n",
    "# Base class is used for all kind of members.\n",
    "class MainMember:\n",
    "    \"\"\" The Member class properties and methods are for everyone \"\"\"\n",
    "    # By default, a new account expires in one year(365 Days)\n",
    "    expire_days = 365\n",
    "    \n",
    "    # Initialize a member object.\n",
    "    def __init__(self, firstName, lastName):\n",
    "        # properties (instance variables) for everyone\n",
    "        self.firstName = firstName\n",
    "        self.lastName = lastName\n",
    "        # Calculate expire date from today's date.\n",
    "        self.expire_date = dt.date.today() + dt.timedelta(days = self.expire_days)\n",
    "        # Default secret code is nothing\n",
    "        self.secret_code = ''\n",
    "        \n",
    "    # Method in the base class\n",
    "    def showexpire(self):\n",
    "        return f\"{self.firstName} {self.lastName} expires on {self.expire_date} code is {self.secret_code}\"\n",
    "    \n",
    " # Subclass for Admin\n",
    "class Admin(MainMember):\n",
    "    def __init__(self, firstName, lastName, secret_code):\n",
    "        # Pass Member parameters on up to Member class.\n",
    "        super().__init__(firstName, lastName)\n",
    "        # Assign the remaining parameter to this object.\n",
    "        self.secret_code = secret_code\n",
    "            \n",
    "#Subclass for Users.\n",
    "class User(MainMember):\n",
    "   pass\n",
    "    \n",
    "Ann = Admin('Annie', 'Angst', 'PETRO')\n",
    "Uli = User('Uli', 'Ungula')\n",
    "\n",
    "print(f\"{Ann.firstName} {Ann.lastName} is expire on {Ann.expire_date} and secretCode is: {Ann.secret_code}\")\n",
    "print(f\"{Uli.firstName} {Uli.lastName} is expire on {Uli.expire_date} and secretCode is: {Uli.secret_code}\")\n",
    "print()\n",
    "print(Ann.showexpire())\n",
    "print(Uli.showexpire())"
   ]
  },
  {
   "cell_type": "code",
   "execution_count": 6,
   "id": "bad79322",
   "metadata": {},
   "outputs": [
    {
     "name": "stdout",
     "output_type": "stream",
     "text": [
      "Annie is an Admin.\n",
      "\n",
      "Uli is a User.\n",
      "\n",
      "Mindy is a Member.\n"
     ]
    }
   ],
   "source": [
    "# Three Method with the same name, get_status()\n",
    "\n",
    "class Member:\n",
    "    \"\"\" The Member class attributes and methods are for everyone \"\"\"\n",
    "    # iitialize a member object.\n",
    "    def __init__(self, firstName, lastName):\n",
    "        # Attributte (instance variable ) for everyone\n",
    "        self.firstName = firstName\n",
    "        self.lastName = lastName\n",
    "    \n",
    "    # Method in the main class\n",
    "    def get_status(self):\n",
    "        return f\"{self.firstName} is a Member.\"\n",
    "    \n",
    "# Subclass for Administrator\n",
    "class Admin(Member):\n",
    "    def get_status(self):\n",
    "        return f\"{self.firstName} is an Admin.\"\n",
    "# Subclass for Users.\n",
    "class User(Member):\n",
    "    def get_status(self):\n",
    "        return f\"{self.firstName} is a User.\"\n",
    "\n",
    "# Create an Admin\n",
    "Ann = Admin(\"Annie\", \"Angust\")\n",
    "# Create a user\n",
    "Uli = User(\"Uli\", \"Ungula\")\n",
    "# Create a member (neighter Admin or user)\n",
    "Manny = Member(\"Mindy\", \"Membo\")\n",
    "\n",
    "print(Ann.get_status())\n",
    "print()\n",
    "print(Uli.get_status())\n",
    "print()\n",
    "print(Manny.get_status())"
   ]
  },
  {
   "cell_type": "code",
   "execution_count": 7,
   "id": "321aca0f",
   "metadata": {},
   "outputs": [
    {
     "ename": "SyntaxError",
     "evalue": "invalid syntax (<ipython-input-7-c0419ce67461>, line 3)",
     "output_type": "error",
     "traceback": [
      "\u001b[1;36m  File \u001b[1;32m\"<ipython-input-7-c0419ce67461>\"\u001b[1;36m, line \u001b[1;32m3\u001b[0m\n\u001b[1;33m    Help on class Admin in module __main__:\u001b[0m\n\u001b[1;37m         ^\u001b[0m\n\u001b[1;31mSyntaxError\u001b[0m\u001b[1;31m:\u001b[0m invalid syntax\n"
     ]
    }
   ],
   "source": [
    "help(Admin)\n",
    "\n",
    "Help on class Admin in module __main__:\n",
    "    \n",
    "class Admin(Member)\n",
    "    Admin(firstName, lastName)\n",
    "    \n",
    "    The Member class attributes and methods are for everyone\n",
    "    \n",
    "    method resolution order:\n",
    "        Admin\n",
    "        Member\n",
    "        builtins.object\n",
    "    \n",
    "    Methods defined here:\n",
    "        \n",
    "    get_status(self)\n",
    "    \n",
    "----------------------------------------------------------------------\n",
    "    Method inherited from Member:\n",
    "    \n",
    "    __init__(self, firstName, lastName)\n",
    "        Initialize self. See help(type(self)) for accurate signature.\n",
    "        \n",
    "----------------------------------------------------------------------------\n",
    "Data descriptors inherited from Member:\n",
    "    __dict__\n",
    "        dictionary for instance variable (if defined)\n",
    "    \n",
    "    __weakref__\n",
    "        list of weak references to the object (if defined)"
   ]
  },
  {
   "cell_type": "code",
   "execution_count": null,
   "id": "2b7d6834",
   "metadata": {},
   "outputs": [],
   "source": []
  }
 ],
 "metadata": {
  "kernelspec": {
   "display_name": "Python 3",
   "language": "python",
   "name": "python3"
  },
  "language_info": {
   "codemirror_mode": {
    "name": "ipython",
    "version": 3
   },
   "file_extension": ".py",
   "mimetype": "text/x-python",
   "name": "python",
   "nbconvert_exporter": "python",
   "pygments_lexer": "ipython3",
   "version": "3.8.8"
  }
 },
 "nbformat": 4,
 "nbformat_minor": 5
}
