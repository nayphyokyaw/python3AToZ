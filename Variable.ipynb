{
 "cells": [
  {
   "cell_type": "code",
   "execution_count": 4,
   "id": "3325c923",
   "metadata": {},
   "outputs": [
    {
     "name": "stdout",
     "output_type": "stream",
     "text": [
      "\n",
      "Name:  Shelby \n",
      "Age:  31\n"
     ]
    }
   ],
   "source": [
    "# variable with escape character sequence \"\\n\"\n",
    "\n",
    "name = \"Shelby\"\n",
    "age = 31\n",
    "print(\"\\nName: \", name , \"\\nAge: \", age)"
   ]
  },
  {
   "cell_type": "code",
   "execution_count": 7,
   "id": "8262c384",
   "metadata": {},
   "outputs": [
    {
     "name": "stdout",
     "output_type": "stream",
     "text": [
      "a = 4\n",
      "b = 6.456\n",
      "c = (3+2j)\n",
      "\n",
      "\n",
      "Name:  Benjamin \n",
      "Age:  32 \n",
      "Occupation:  Business Consultant \n",
      "Country:  Canada\n"
     ]
    }
   ],
   "source": [
    "a = 4\n",
    "b = 6.456\n",
    "c = 3 + 2j\n",
    "name, age, occupation = \"Benjamin\", 32, \"Business Consultant\"\n",
    "country = \"Canada\"\n",
    "\n",
    "print(\"a =\", a)\n",
    "print(\"b =\", b)\n",
    "print(\"c =\", c)\n",
    "print(\"\\n\\nName: \", name,\n",
    "     \"\\nAge: \", age,\n",
    "     \"\\nOccupation: \", occupation,\n",
    "     \"\\nCountry: \", country,)"
   ]
  },
  {
   "cell_type": "code",
   "execution_count": 11,
   "id": "afad948a",
   "metadata": {},
   "outputs": [
    {
     "name": "stdout",
     "output_type": "stream",
     "text": [
      "16\n"
     ]
    }
   ],
   "source": [
    "a = 2\n",
    "b = 4\n",
    "x = (a ** b)\n",
    "\n",
    "print(x)"
   ]
  },
  {
   "cell_type": "code",
   "execution_count": 13,
   "id": "9cc8683e",
   "metadata": {},
   "outputs": [
    {
     "name": "stdout",
     "output_type": "stream",
     "text": [
      "\n",
      "a =  126 b =  62 \n",
      "a == b :  False \n",
      "a != b :  True \n",
      "a < b :  False \n",
      "a > b :  True \n",
      "a <= b :  False \n",
      "a >= b :  True\n"
     ]
    }
   ],
   "source": [
    "#Comparison Operators Demo\n",
    "#Declare two variables\n",
    "\n",
    "a = 126\n",
    "b = 62\n",
    "#Perform Relational Operations\n",
    "print(\"\\na = \", a , \"b = \", b,\n",
    "    \"\\na == b : \", a == b ,\n",
    "    \"\\na != b : \", a != b ,\n",
    "    \"\\na < b : \", a < b ,\n",
    "    \"\\na > b : \", a > b ,\n",
    "    \"\\na <= b : \", a <= b ,\n",
    "    \"\\na >= b : \", a >= b\n",
    "    )"
   ]
  },
  {
   "cell_type": "code",
   "execution_count": 14,
   "id": "44cd9bca",
   "metadata": {},
   "outputs": [
    {
     "name": "stdout",
     "output_type": "stream",
     "text": [
      "\n",
      "x =  23  x (binary) =  0b10111 \n",
      "y =  29  y (binary) =  0b11101 \n",
      "~x =  -24  ~x (binary) =  -0b11000 \n",
      "~y =  -30  ~y (binary) =  -0b11110 \n",
      "x | y =  31  x | y (binary) =  0b11111 \n",
      "x & y =  21  x & y (binary) =  0b10101 \n",
      "x ^ y =  10  x ^ y (binary) =  0b1010 \n",
      "x >> 2 =  5  x >> 2 (binary) =  0b101 \n",
      "y >> 4 =  1  y >> 4 (binary) =  0b1 \n",
      "x << 3 =  184  x << 3 (binary) =  0b10111000 \n",
      "y << 1 =  58  y << 1 (binary) =  0b111010\n"
     ]
    }
   ],
   "source": [
    "#Bitwise Operators Demo\n",
    "#Assign values to variables\n",
    "x = 23\n",
    "y = 29\n",
    "#Display bitwise operation results\n",
    "print (\"\\nx = \", x, \" x (binary) = \", bin(x),\n",
    "    \"\\ny = \", y, \" y (binary) = \", bin(y),\n",
    "    \"\\n~x = \", ~x, \" ~x (binary) = \", bin(~x),\n",
    "    \"\\n~y = \", ~y, \" ~y (binary) = \", bin(~y),\n",
    "    \"\\nx | y = \", x | y, \" x | y (binary) = \", bin(x | y),\n",
    "    \"\\nx & y = \", x & y, \" x & y (binary) = \", bin(x & y),\n",
    "    \"\\nx ^ y = \", x ^ y, \" x ^ y (binary) = \", bin(x ^ y),\n",
    "    \"\\nx >> 2 = \", x >> 2, \" x >> 2 (binary) = \", bin(x >> 2),\n",
    "    \"\\ny >> 4 = \", y >> 4, \" y >> 4 (binary) = \", bin(y >> 4),\n",
    "    \"\\nx << 3 = \", x << 3, \" x << 3 (binary) = \", bin(x << 3),\n",
    "    \"\\ny << 1 = \", y << 1, \" y << 1 (binary) = \", bin(y << 1)\n",
    "    )"
   ]
  },
  {
   "cell_type": "code",
   "execution_count": null,
   "id": "0aad124d",
   "metadata": {},
   "outputs": [],
   "source": [
    "#Identity Operators Demo\n",
    "#Initiate some variables\n",
    "\n",
    "a = 3\n",
    "b = -7.864\n",
    "c = 15+23j\n",
    "country = \"Argentina\"\n",
    "\n",
    "#Identity operators like comparison operators\n",
    "\n",
    "print (\"\\na is 3: \", (a is 3))\n",
    "print (\"\\nb is 7.5: \", (b is 7.5))\n",
    "print (\"\\na is not 5: \", (a is not 5))\n",
    "\n",
    "#Display data type of all variables\n",
    "\n",
    "print (\"\\n\\ntype(a): \", type (a),\n",
    "    \"\\n\\ntype(b): \", type (b),\n",
    "    \"\\n\\ntype(c): \", type (c),\n",
    "    \"\\n\\ntype(country): \", type (country))\n",
    "\n",
    "#Check whether a variable is of a certain type\n",
    "\n",
    "print (\"\\n\\ntype(a) is int: \", type(a) is int,\n",
    "    \"\\n\\ntype(b) is int: \", type(b) is int,\n",
    "    \"\\n\\ntype(c) is complex: \", type(c) is complex,\n",
    "    \"\\n\\ntype(country) is not float: \", type(country) is not float)"
   ]
  },
  {
   "cell_type": "code",
   "execution_count": 1,
   "id": "68d9cf39",
   "metadata": {},
   "outputs": [
    {
     "name": "stdout",
     "output_type": "stream",
     "text": [
      "Enter an integer: 8\n",
      "Enter another integer: 9\n",
      "\n",
      "x =  8 y =  9 \n",
      "sum =  17 \n",
      "difference =  -1 \n",
      "product =  72 \n",
      "quotient =  0.8888888888888888 \n",
      "remainder =  8 \n",
      "quotient (floor value) =  0 \n",
      "exponent =  1\n"
     ]
    }
   ],
   "source": [
    "#User input, arithmetic operations\n",
    "#Prompt the user to enter two numbers x, y\n",
    "\n",
    "x_str = input ('Enter an integer: ')\n",
    "y_str = input ('Enter another integer: ')\n",
    "\n",
    "#Convert x_str and y_str from string to integer\n",
    "\n",
    "x = int (x_str)\n",
    "y = int (y_str)\n",
    "\n",
    "#Perform Arithmetic operations, assign result to variables\n",
    "#Calculate sum\n",
    "\n",
    "sum = x + y\n",
    "\n",
    "#Calculate difference\n",
    "difference = x - y\n",
    "\n",
    "#Calculate product\n",
    "product = x * y\n",
    "\n",
    "#Perform division\n",
    "quotient = x / y\n",
    "\n",
    "#Modulus\n",
    "mod = x % y\n",
    "\n",
    "#Perform floor division\n",
    "floor_quotient = x // y\n",
    "\n",
    "#Exponent\n",
    "exp = x ^ y\n",
    "\n",
    "#Display everything\n",
    "print(\"\\nx = \", x , \"y = \", y,\n",
    "\"\\nsum = \", sum ,\n",
    "\"\\ndifference = \", difference ,\n",
    "\"\\nproduct = \", product ,\n",
    "\"\\nquotient = \", quotient ,\n",
    "\"\\nremainder = \", mod ,\n",
    "\"\\nquotient (floor value) = \", floor_quotient ,\n",
    "\"\\nexponent = \", exp\n",
    ")"
   ]
  },
  {
   "cell_type": "code",
   "execution_count": null,
   "id": "b4a90333",
   "metadata": {},
   "outputs": [],
   "source": []
  }
 ],
 "metadata": {
  "kernelspec": {
   "display_name": "Python 3",
   "language": "python",
   "name": "python3"
  },
  "language_info": {
   "codemirror_mode": {
    "name": "ipython",
    "version": 3
   },
   "file_extension": ".py",
   "mimetype": "text/x-python",
   "name": "python",
   "nbconvert_exporter": "python",
   "pygments_lexer": "ipython3",
   "version": "3.8.8"
  }
 },
 "nbformat": 4,
 "nbformat_minor": 5
}
