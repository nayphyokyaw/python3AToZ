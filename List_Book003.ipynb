{
 "cells": [
  {
   "cell_type": "code",
   "execution_count": null,
   "id": "46761706",
   "metadata": {},
   "outputs": [],
   "source": [
    "# Defining and Using Lists\n",
    "\n",
    "students = [\"Jhon\", \"Mark\", \"Steven\", \"Nick\", \"Peter\"]\n",
    "print(students[0])\n",
    "print(students[4:])\n",
    "print(students[:4])\n",
    "print(students[2:4])\n",
    "print(students[2:])\n",
    "\n",
    "# Looping through a list\n",
    "for student in students:\n",
    "    print(student)\n",
    "print(\"Done\")"
   ]
  },
  {
   "cell_type": "code",
   "execution_count": 11,
   "id": "b40b30f7",
   "metadata": {},
   "outputs": [
    {
     "name": "stdout",
     "output_type": "stream",
     "text": [
      "True\n",
      "False\n"
     ]
    }
   ],
   "source": [
    "# Seeing whether a list contains an item\n",
    "\n",
    "students = [\"Jhon\", \"Mark\", \"Steven\", \"Nick\", \"Peter\"]\n",
    "\n",
    "# Is Nick in the list?\n",
    "has_Nick = \"Nick\" in students\n",
    "print(has_Nick) # show boolian True\n",
    "\n",
    "# Is Bob in the list?\n",
    "has_Bob = \"Bob\" in students\n",
    "print(has_Bob)"
   ]
  },
  {
   "cell_type": "code",
   "execution_count": 25,
   "id": "e14a7700",
   "metadata": {},
   "outputs": [
    {
     "name": "stdout",
     "output_type": "stream",
     "text": [
      "Amanda is already in the list\n"
     ]
    }
   ],
   "source": [
    "# Getting the length of a list (method append())\n",
    "\n",
    "# students = [\"Jhon\", \"Mark\", \"Steven\", \"Nick\", \"Peter\"]\n",
    "# print(len(students))\n",
    "\n",
    "\n",
    "# Adding an item to the end of a list\n",
    "\n",
    "students = [\"Jhon\", \"Mark\", \"Steven\", \"Nick\", \"Peter\"]\n",
    "# Add the name Bob to the list\n",
    "students.append(\"Bob\")\n",
    "\n",
    "new_student = \"Amanda\"\n",
    "# Add what ever name is in new_student to the list\n",
    "students.append(new_student)\n",
    "\n",
    "# Print the entire list\n",
    "print(students)\n",
    "\n",
    "# \n",
    "\n",
    "student_name = \"Amanda\"\n",
    "#Add student_name but only if not already in the list.\n",
    "if student_name in students:\n",
    "    print(f\"{student_name} \" \"is already in the list\")\n",
    "else:\n",
    "    students.append(student_name)\n",
    "    print(f\"{student_name} \" \"Added to the list\")"
   ]
  },
  {
   "cell_type": "code",
   "execution_count": 28,
   "id": "736db66a",
   "metadata": {},
   "outputs": [
    {
     "name": "stdout",
     "output_type": "stream",
     "text": [
      "['Bob', 'Jhon', 'Mark', 'Steven', 'Nick', 'Peter']\n"
     ]
    }
   ],
   "source": [
    "# Inserting an item into a list\n",
    "\n",
    "# Create a list of strings (names).\n",
    "students = [\"Jhon\", \"Mark\", \"Steven\", \"Nick\", \"Peter\"]\n",
    "\n",
    "student_name = \"Bob\"\n",
    "# Add student name to front of the list\n",
    "students.insert(0, student_name)\n",
    "\n",
    "#show me the new list\n",
    "print(students)"
   ]
  },
  {
   "cell_type": "code",
   "execution_count": 29,
   "id": "e0f9171c",
   "metadata": {},
   "outputs": [
    {
     "name": "stdout",
     "output_type": "stream",
     "text": [
      "['Amanda', 'Jhon', 'Mark', 'Steven', 'Nick', 'Peter']\n"
     ]
    }
   ],
   "source": [
    "# Changing an itme in the list\n",
    "\n",
    "students = [\"Bob\", \"Jhon\", \"Mark\", \"Steven\", \"Nick\", \"Peter\"]\n",
    "students[0] = \"Amanda\"\n",
    "print(students)"
   ]
  },
  {
   "cell_type": "code",
   "execution_count": null,
   "id": "d45402e6",
   "metadata": {},
   "outputs": [],
   "source": [
    "# Combining lists\n",
    "\n",
    "list1 = [88, 89, 70, 54, 34, 30]\n",
    "list3 = [\"Bom\", \"Mike\", \"Anna\", \"Douh\", \"Franke\", \"Moter\"]\n",
    "list2 = [\"Bob\", \"Jhon\", \"Mark\", \"Steven\", \"Nick\", \"Peter\"]\n",
    "\n",
    "# Add list2 name to list 1\n",
    "list2.extend(list1)\n",
    "# Add list3 name to list 2\n",
    "list3.extend(list2)\n",
    "\n",
    "print(list2)\n",
    "print(list3)\n"
   ]
  },
  {
   "cell_type": "code",
   "execution_count": 45,
   "id": "d4540c52",
   "metadata": {},
   "outputs": [
    {
     "name": "stdout",
     "output_type": "stream",
     "text": [
      "['B', 'C', 'D', 'E', 'D']\n"
     ]
    }
   ],
   "source": [
    "# Removing list items\n",
    "\n",
    "letters = [\"A\", \"B\", \"C\", \"D\", \"E\", \"D\", \"C\"]\n",
    "\n",
    "# # Remove \"C\" form the list.\n",
    "# letters.remove(\"C\")\n",
    "# # Show me the new list.\n",
    "# print(letters)\n",
    "\n",
    "# while \"C\" in letters:\n",
    "#     letters.remove(\"C\")\n",
    "# print(letters)\n",
    "\n",
    "# Remove the last item (pop() with nothing in the parentheses).\n",
    "\n",
    "# Remove the first item.\n",
    "letters.pop(0)\n",
    "\n",
    "# Remove the last item.\n",
    "letters.pop()\n",
    "\n",
    "print(letters)"
   ]
  },
  {
   "cell_type": "code",
   "execution_count": 49,
   "id": "2a662320",
   "metadata": {},
   "outputs": [
    {
     "name": "stdout",
     "output_type": "stream",
     "text": [
      "['B', 'C', 'D', 'E', 'F']\n",
      "A and G were removed from the list\n"
     ]
    }
   ],
   "source": [
    "# When you pop() an item off the list, \n",
    "# you can store a copy of that value in some variable\n",
    "\n",
    "letters = [\"A\", \"B\", \"C\", \"D\", \"E\", \"F\", \"G\"]\n",
    "           \n",
    "# make a copy of first list item then remove it from the list.\n",
    "first_remove = letters.pop(0)\n",
    "\n",
    "# Makea copy of last list item then remove it from the list.\n",
    "last_remove = letters.pop()\n",
    "           \n",
    "print(letters)\n",
    "# Show what's been removed.\n",
    "print(f\"{first_remove} and {last_remove} were removed from the list\")\n"
   ]
  },
  {
   "cell_type": "code",
   "execution_count": null,
   "id": "5d5d973e",
   "metadata": {},
   "outputs": [],
   "source": [
    "# With use Delete it is unlike pop, \n",
    "# del just deletes without returning anything\n",
    "\n",
    "# Create a list of strings.\n",
    "letters = [\"A\", \"B\", \"C\", \"D\", \"E\", \"F\", \"G\"]\n",
    "\n",
    "# Delete the 3 position on the list\n",
    "del letters[3]\n",
    "print(letters)\n",
    "\n",
    "# Delete the entrie list.\n",
    "del letters\n",
    "# show on NameError: name 'letters' is not defined\n",
    "print(letters)"
   ]
  },
  {
   "cell_type": "code",
   "execution_count": 71,
   "id": "4b553f70",
   "metadata": {},
   "outputs": [
    {
     "name": "stdout",
     "output_type": "stream",
     "text": [
      "There are 2 B grades in the list.\n",
      "There are 3 C grades in the list\n",
      "There are 0 F grades in the list\n"
     ]
    }
   ],
   "source": [
    "# Counting How many times an item appears in a list\n",
    "\n",
    "grades = [\"C\", \"B\", \"A\", \"D\", \"C\", \"B\", \"C\"]\n",
    "\n",
    "# Count the B's\n",
    "b_grade = grades.count(\"B\")\n",
    "\n",
    "# Use a variabke for value to count.\n",
    "look_for = \"C\"\n",
    "c_grade = grades.count(look_for)\n",
    "\n",
    "print(f\"There are {b_grade} B grades in the list.\")\n",
    "print(f\"There are {c_grade} {look_for} grades in the list\")\n",
    "print(f\"There are {grades.count('F')} F grades in the list\")"
   ]
  },
  {
   "cell_type": "code",
   "execution_count": 74,
   "id": "c4e417ce",
   "metadata": {},
   "outputs": [
    {
     "name": "stdout",
     "output_type": "stream",
     "text": [
      "['Alberto', 'Hong', 'Jake', 'Lupe', 'Tyler', 'Zara']\n",
      "[-4, -0.23, 0, 11.23, 14, 56, 99]\n"
     ]
    }
   ],
   "source": [
    "# Alphabetizing and sorting lists\n",
    "\n",
    "# Create list of string\n",
    "names = [\"Zara\", \"Lupe\", \"Hong\", \"Alberto\", \"Jake\", \"Tyler\"]\n",
    "# Create list of number\n",
    "numbers = [14, 0, 56, -4, 99, -00.23, 11.23]\n",
    "\n",
    "# sort the names list.\n",
    "names.sort()\n",
    "# sort the numbers list.\n",
    "numbers.sort()\n",
    "\n",
    "print(names)\n",
    "print(numbers)"
   ]
  },
  {
   "cell_type": "code",
   "execution_count": 77,
   "id": "70d9161b",
   "metadata": {},
   "outputs": [
    {
     "name": "stdout",
     "output_type": "stream",
     "text": [
      "['Zara', 'Tyler', 'Lupe', 'Jake', 'Hong', 'Alberto']\n",
      "\n",
      "[99, 56, 14, 11.23, 0, -0.23, -4]\n",
      "\n",
      "12/31/2020\n",
      "01/31/2019\n",
      "11/21/2018\n",
      "08/10/2017\n"
     ]
    }
   ],
   "source": [
    "# append(), sort(reverse = True)\n",
    "# Sorting strings, numbers, and dates in reverse order\n",
    "import datetime as dt\n",
    "\n",
    "names = [\"Zara\", \"Lupe\", \"Hong\", \"Alberto\", \"Jake\", \"Tyler\"]\n",
    "\n",
    "numbers = [14, 0, 56, -4, 99, -00.23, 11.23]\n",
    "\n",
    "# Creat a list of date, empty for starters because code is too long.\n",
    "datelist = []\n",
    "datelist.append(dt.date(2020,12,31))\n",
    "datelist.append(dt.date(2019,1,31))\n",
    "datelist.append(dt.date(2018,11,21))\n",
    "datelist.append(dt.date(2017,8,10))\n",
    "\n",
    "# Sort strings in reverse order (Z to A) and show.\n",
    "names.sort(reverse=True)\n",
    "print(names)\n",
    "print() # This just adds a blank line to the output\n",
    "\n",
    "# Sort numbers in reverse order (largest to smallest) and show\n",
    "numbers.sort(reverse=True)\n",
    "print(numbers)\n",
    "print() # This just adds a blank line to the output\n",
    "\n",
    "#Sort the dates in reverse order (lastest to earliest) and show formatted\n",
    "datelist.sort(reverse=True)\n",
    "for date in datelist:\n",
    "    print(f'{date:%m/%d/%Y}')"
   ]
  },
  {
   "cell_type": "code",
   "execution_count": 79,
   "id": "395f9a22",
   "metadata": {},
   "outputs": [
    {
     "name": "stdout",
     "output_type": "stream",
     "text": [
      "['Zara', 'Lupe', 'Hong', 'Alberto', 'Jake', 'Tyler']\n",
      "['Tyler', 'Jake', 'Alberto', 'Hong', 'Lupe', 'Zara']\n"
     ]
    }
   ],
   "source": [
    "# Copy a List\n",
    "\n",
    "names = [\"Zara\", \"Lupe\", \"Hong\", \"Alberto\", \"Jake\", \"Tyler\"]\n",
    "\n",
    "# Make a copy of the list.\n",
    "backward_name = names.copy()\n",
    "# Reverse the copy.\n",
    "backward_name.reverse()\n",
    "\n",
    "# Print the list.\n",
    "print(names)\n",
    "print(backward_name)"
   ]
  },
  {
   "cell_type": "code",
   "execution_count": null,
   "id": "4a7d1b57",
   "metadata": {},
   "outputs": [],
   "source": []
  }
 ],
 "metadata": {
  "kernelspec": {
   "display_name": "Python 3",
   "language": "python",
   "name": "python3"
  },
  "language_info": {
   "codemirror_mode": {
    "name": "ipython",
    "version": 3
   },
   "file_extension": ".py",
   "mimetype": "text/x-python",
   "name": "python",
   "nbconvert_exporter": "python",
   "pygments_lexer": "ipython3",
   "version": "3.8.8"
  }
 },
 "nbformat": 4,
 "nbformat_minor": 5
}
