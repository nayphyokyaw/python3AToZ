{
 "cells": [
  {
   "cell_type": "code",
   "execution_count": 4,
   "id": "5b0ba620",
   "metadata": {},
   "outputs": [
    {
     "name": "stdout",
     "output_type": "stream",
     "text": [
      "a[0][0]=77 a[0][1]=68 a[0][2]=86 a[0][3]=73 \n",
      "a[1][0]=87 a[1][1]=68 a[1][2]=46 a[1][3]=72 \n",
      "a[2][0]=99 a[2][1]=55 a[2][2]=36 a[2][3]=44 \n"
     ]
    }
   ],
   "source": [
    "a = [[77, 68, 86, 73], # first student's grades\n",
    "     [87, 68, 46, 72], # second student's grades\n",
    "     [99, 55, 36, 44]  # third student's grades\n",
    "    ]\n",
    "\n",
    "for i, row in enumerate(a):\n",
    "    for j, item in enumerate(row):\n",
    "        print(f\"a[{i}][{j}]={item}\", end=' ')\n",
    "    print()"
   ]
  },
  {
   "cell_type": "code",
   "execution_count": null,
   "id": "fecec98a",
   "metadata": {},
   "outputs": [],
   "source": [
    "import matplotlib.pyplot as plt\n",
    "plt.figure(1)                # the first figure\n",
    "plt.subplot(211)             # the first subplot in the first figure\n",
    "plt.plot([1, 2, 3])\n",
    "plt.subplot(212)             # the second subplot in the first figure\n",
    "plt.plot([4, 5, 6])\n",
    "\n",
    "\n",
    "plt.figure(2)                # a second figure\n",
    "plt.plot([4, 5, 6])          # creates a subplot() by default\n",
    "\n",
    "plt.figure(1)                # figure 1 current; subplot(212) still current\n",
    "plt.subplot(211)             # make subplot(211) in figure1 current\n",
    "plt.title('Easy as 1, 2, 3') # subplot 211 title"
   ]
  },
  {
   "cell_type": "code",
   "execution_count": null,
   "id": "680bf44e",
   "metadata": {},
   "outputs": [],
   "source": [
    "import matplotlib.pyplot as plt\n",
    "import numpy as np \n",
    "import random\n",
    "import seaborn as sns\n",
    "\n",
    "rolls = [random.randrange(1, 7) for i in range(600)]\n",
    "values, frequencies = np.unique(rolls, return_counts=True)\n",
    "\n",
    "# Creating the Initial Bar Plot\n",
    "title = f'Rolling a Six-Sided Die {len(rolls):,} Times'\n",
    "# sns.set_style('whitegrid')\n",
    "# sns.set_style('darkgrid')\n",
    "# sns.set_style('ticks')\n",
    "# sns.set_style('dark')\n",
    "# sns.color_palette(\"Set2\")\n",
    "sns.color_palette(\"Paired\")\n",
    "\n",
    "axes = sns.barplot(x=values, y=frequencies, palette='bright')\n",
    "\n",
    "# Setting the Window Title and Labeling the x- and y-Axes\n",
    "axes.set_title(title)\n",
    "axes.set(xlabel='Die Value', ylabel='Frequency')\n",
    "\n",
    "# Finalizing the Bar Plot\n",
    "axes.set_ylim(top=max(frequencies) * 1.10)\n",
    "\n",
    "# Finalizing the Bar Plot\n",
    "for bar, frequency in zip(axes.patches, frequencies):\n",
    "    text_x = bar.get_x() + bar.get_width() / 2.0\n",
    "    text_y = bar.get_height()\n",
    "    text = f\"{frequency:,}\\n{frequency / len(rolls):.3%}\"\n",
    "    axes.text(text_x, text_y, text,\n",
    "             fontsize = 11, ha = 'center', va = 'bottom')\n"
   ]
  },
  {
   "cell_type": "code",
   "execution_count": 29,
   "id": "509d7819",
   "metadata": {},
   "outputs": [
    {
     "name": "stdout",
     "output_type": "stream",
     "text": [
      "list % 2 == 0 number is: [2, 4, 6]\n"
     ]
    }
   ],
   "source": [
    "def filter_even(number_list):\n",
    "    result_list = []\n",
    "    for number in number_list:\n",
    "        if number % 2 == 0:\n",
    "            result_list.append(number)\n",
    "    return result_list\n",
    "\n",
    "list = filter_even([1, 2, 3, 4, 5, 6])\n",
    "print(f\"list % 2 == 0 number is: {list}\")"
   ]
  },
  {
   "cell_type": "markdown",
   "id": "9e06d40c",
   "metadata": {},
   "source": [
    "##  Writing great functions in Python\n",
    "\n",
    "[Python Function and Scope](https://jovian.ai/aakashns/python-functions-and-scope)\n",
    "\n",
    "\n",
    "As a programmer, you will spend most of your time writing and using functions. Python offers many features to make your functions powerful and flexible. Let's explore some of these by solving a problem:\n",
    "\n",
    "Radha is planning to buy a house that costs $1,260,000. She considering two options to finance her purchase:\n",
    "\n",
    "- Option 1: Make an immediate down payment of $300,000, and take loan 8-year loan with an interest rate of 10% \n",
    "  (compounded monthly) for the remaining amount.\n",
    "\n",
    "- Option 2: Take a 10-year loan with an interest rate of 8% (compounded monthly) for the entire amount.\n",
    "  Both these loans have to be paid back in equal monthly installments (EMIs). Which loan has a lower EMI among the two?\n",
    "\n",
    "Since we need to compare the EMIs for two loan options, defining a function to calculate the EMI for a loan would be a great idea. The inputs to the function would be cost of the house, the down payment, duration of the loan, rate of interest etc. We'll build this function step by step.\n",
    "\n",
    "First, let's write a simple function that calculates the EMI on the entire cost of the house, assuming that the loan must be paid back in one year, and there is no interest or down payment.\n",
    "\n",
    "\n",
    "Next, let's add the interest calculation into the function. Here's the formula used to calculate the EMI for a loan:\n",
    "\n",
    "<img src=\"https://i.imgur.com/iKujHGK.png\" style=\"width:240px\">\n",
    "\n",
    "where:\n",
    "\n",
    "* `P` is the loan amount (principal)\n",
    "* `n` is the no. of months\n",
    "* `r` is the rate of interest per month\n",
    "\n",
    "The derivation of this formula is beyond the scope of this tutorial. See this video for an explanation: https://youtu.be/Coxza9ugW4E .\n",
    "\n",
    "equal monthly installments(EMIS)"
   ]
  },
  {
   "cell_type": "code",
   "execution_count": 1,
   "id": "b404f49a",
   "metadata": {},
   "outputs": [
    {
     "data": {
      "text/plain": [
       "14567.19753389219"
      ]
     },
     "execution_count": 1,
     "metadata": {},
     "output_type": "execute_result"
    }
   ],
   "source": [
    "def loan_emi(amount, duration, rate, down_payment=0):\n",
    "    lone_amount = amount - down_payment\n",
    "    emi = lone_amount * rate * ((1 + rate) ** duration) / (((1 + rate) ** duration) -1)\n",
    "    return emi\n",
    "\n",
    "loan_emi(1260000, 8*12, 0.1/12, 3e5)\n",
    "    "
   ]
  },
  {
   "cell_type": "code",
   "execution_count": null,
   "id": "dd834119",
   "metadata": {},
   "outputs": [],
   "source": []
  }
 ],
 "metadata": {
  "kernelspec": {
   "display_name": "Python 3",
   "language": "python",
   "name": "python3"
  },
  "language_info": {
   "codemirror_mode": {
    "name": "ipython",
    "version": 3
   },
   "file_extension": ".py",
   "mimetype": "text/x-python",
   "name": "python",
   "nbconvert_exporter": "python",
   "pygments_lexer": "ipython3",
   "version": "3.8.8"
  }
 },
 "nbformat": 4,
 "nbformat_minor": 5
}
