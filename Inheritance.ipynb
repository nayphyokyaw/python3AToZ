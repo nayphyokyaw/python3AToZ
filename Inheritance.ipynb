{
 "cells": [
  {
   "cell_type": "code",
   "execution_count": null,
   "id": "2a6244a1",
   "metadata": {},
   "outputs": [],
   "source": [
    "# Inheritance in python\n",
    "#Python Inheritance Syntax\n",
    "\n",
    "class oneClass:\n",
    "    Body if one class\n",
    "class twoClass:\n",
    "    Body of two class"
   ]
  },
  {
   "cell_type": "code",
   "execution_count": 23,
   "id": "e3b770a1",
   "metadata": {
    "scrolled": true
   },
   "outputs": [
    {
     "name": "stdout",
     "output_type": "stream",
     "text": [
      "My Name is Kyaw Sithu I Graduated on  2003\n"
     ]
    }
   ],
   "source": [
    "#! /usr/bin/env python3\n",
    "# Inheritance with 2 classs, parent Person class and chlid student class\n",
    "class Person:\n",
    "    def __init__(self, fname, lname):\n",
    "        self.firstname = fname\n",
    "        self.lastname = lname\n",
    "    def printName(self):\n",
    "        print(self.firstname, self.lastname)\n",
    "\n",
    "class Student(Person):\n",
    "    def __init__(self, fname, lname, year):\n",
    "        #Person.__init__(self, fname, lname)\n",
    "        super().__init__(fname, lname)\n",
    "        self.graduateyear = year\n",
    "        \n",
    "    def welcome(self):\n",
    "        print(\"My Name is\", self.firstname, self.lastname,\"I Graduated on \", self.graduateyear)\n",
    "        \n",
    "x = Student('Kyaw', 'Sithu', 2003)\n",
    "x.welcome()\n",
    "    \n",
    "\n"
   ]
  },
  {
   "cell_type": "code",
   "execution_count": null,
   "id": "29240a8f",
   "metadata": {},
   "outputs": [],
   "source": []
  },
  {
   "cell_type": "code",
   "execution_count": null,
   "id": "73944864",
   "metadata": {},
   "outputs": [],
   "source": []
  }
 ],
 "metadata": {
  "kernelspec": {
   "display_name": "Python 3",
   "language": "python",
   "name": "python3"
  },
  "language_info": {
   "codemirror_mode": {
    "name": "ipython",
    "version": 3
   },
   "file_extension": ".py",
   "mimetype": "text/x-python",
   "name": "python",
   "nbconvert_exporter": "python",
   "pygments_lexer": "ipython3",
   "version": "3.8.8"
  }
 },
 "nbformat": 4,
 "nbformat_minor": 5
}
